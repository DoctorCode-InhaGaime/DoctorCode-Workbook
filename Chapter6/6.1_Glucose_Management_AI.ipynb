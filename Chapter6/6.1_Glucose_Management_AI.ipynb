{
 "cells": [
  {
   "cell_type": "markdown",
   "metadata": {},
   "source": [
    "OhioT1DM Dataset - Blood Glucose Level Prediction\n",
    "\n",
    "[https://pmc.ncbi.nlm.nih.gov/articles/PMC7881904/](https://pmc.ncbi.nlm.nih.gov/articles/PMC7881904/)"
   ]
  },
  {
   "cell_type": "code",
   "execution_count": 1,
   "metadata": {},
   "outputs": [
    {
     "name": "stdout",
     "output_type": "stream",
     "text": [
      "Requirement already satisfied: numpy in c:\\users\\inhag\\.virtualenvs\\chapter6-jcyiwnwd\\lib\\site-packages (2.1.3)\n",
      "Requirement already satisfied: pandas in c:\\users\\inhag\\.virtualenvs\\chapter6-jcyiwnwd\\lib\\site-packages (2.2.3)\n",
      "Requirement already satisfied: tensorflow in c:\\users\\inhag\\.virtualenvs\\chapter6-jcyiwnwd\\lib\\site-packages (2.19.0)\n",
      "Requirement already satisfied: matplotlib in c:\\users\\inhag\\.virtualenvs\\chapter6-jcyiwnwd\\lib\\site-packages (3.10.1)\n",
      "Requirement already satisfied: seaborn in c:\\users\\inhag\\.virtualenvs\\chapter6-jcyiwnwd\\lib\\site-packages (0.13.2)\n",
      "Requirement already satisfied: scipy in c:\\users\\inhag\\.virtualenvs\\chapter6-jcyiwnwd\\lib\\site-packages (1.15.2)\n",
      "Requirement already satisfied: kagglehub in c:\\users\\inhag\\.virtualenvs\\chapter6-jcyiwnwd\\lib\\site-packages (0.3.10)\n",
      "Requirement already satisfied: python-dateutil>=2.8.2 in c:\\users\\inhag\\.virtualenvs\\chapter6-jcyiwnwd\\lib\\site-packages (from pandas) (2.9.0.post0)\n",
      "Requirement already satisfied: pytz>=2020.1 in c:\\users\\inhag\\.virtualenvs\\chapter6-jcyiwnwd\\lib\\site-packages (from pandas) (2025.1)\n",
      "Requirement already satisfied: tzdata>=2022.7 in c:\\users\\inhag\\.virtualenvs\\chapter6-jcyiwnwd\\lib\\site-packages (from pandas) (2025.2)\n",
      "Requirement already satisfied: absl-py>=1.0.0 in c:\\users\\inhag\\.virtualenvs\\chapter6-jcyiwnwd\\lib\\site-packages (from tensorflow) (2.2.0)\n",
      "Requirement already satisfied: astunparse>=1.6.0 in c:\\users\\inhag\\.virtualenvs\\chapter6-jcyiwnwd\\lib\\site-packages (from tensorflow) (1.6.3)\n",
      "Requirement already satisfied: flatbuffers>=24.3.25 in c:\\users\\inhag\\.virtualenvs\\chapter6-jcyiwnwd\\lib\\site-packages (from tensorflow) (25.2.10)\n",
      "Requirement already satisfied: gast!=0.5.0,!=0.5.1,!=0.5.2,>=0.2.1 in c:\\users\\inhag\\.virtualenvs\\chapter6-jcyiwnwd\\lib\\site-packages (from tensorflow) (0.6.0)\n",
      "Requirement already satisfied: google-pasta>=0.1.1 in c:\\users\\inhag\\.virtualenvs\\chapter6-jcyiwnwd\\lib\\site-packages (from tensorflow) (0.2.0)\n",
      "Requirement already satisfied: libclang>=13.0.0 in c:\\users\\inhag\\.virtualenvs\\chapter6-jcyiwnwd\\lib\\site-packages (from tensorflow) (18.1.1)\n",
      "Requirement already satisfied: opt-einsum>=2.3.2 in c:\\users\\inhag\\.virtualenvs\\chapter6-jcyiwnwd\\lib\\site-packages (from tensorflow) (3.4.0)\n",
      "Requirement already satisfied: packaging in c:\\users\\inhag\\.virtualenvs\\chapter6-jcyiwnwd\\lib\\site-packages (from tensorflow) (24.2)\n",
      "Requirement already satisfied: protobuf!=4.21.0,!=4.21.1,!=4.21.2,!=4.21.3,!=4.21.4,!=4.21.5,<6.0.0dev,>=3.20.3 in c:\\users\\inhag\\.virtualenvs\\chapter6-jcyiwnwd\\lib\\site-packages (from tensorflow) (5.29.4)\n",
      "Requirement already satisfied: requests<3,>=2.21.0 in c:\\users\\inhag\\.virtualenvs\\chapter6-jcyiwnwd\\lib\\site-packages (from tensorflow) (2.32.3)\n",
      "Requirement already satisfied: setuptools in c:\\users\\inhag\\.virtualenvs\\chapter6-jcyiwnwd\\lib\\site-packages (from tensorflow) (78.0.1)\n",
      "Requirement already satisfied: six>=1.12.0 in c:\\users\\inhag\\.virtualenvs\\chapter6-jcyiwnwd\\lib\\site-packages (from tensorflow) (1.17.0)\n",
      "Requirement already satisfied: termcolor>=1.1.0 in c:\\users\\inhag\\.virtualenvs\\chapter6-jcyiwnwd\\lib\\site-packages (from tensorflow) (2.5.0)\n",
      "Requirement already satisfied: typing-extensions>=3.6.6 in c:\\users\\inhag\\.virtualenvs\\chapter6-jcyiwnwd\\lib\\site-packages (from tensorflow) (4.12.2)\n",
      "Requirement already satisfied: wrapt>=1.11.0 in c:\\users\\inhag\\.virtualenvs\\chapter6-jcyiwnwd\\lib\\site-packages (from tensorflow) (1.17.2)\n",
      "Requirement already satisfied: grpcio<2.0,>=1.24.3 in c:\\users\\inhag\\.virtualenvs\\chapter6-jcyiwnwd\\lib\\site-packages (from tensorflow) (1.71.0)\n",
      "Requirement already satisfied: tensorboard~=2.19.0 in c:\\users\\inhag\\.virtualenvs\\chapter6-jcyiwnwd\\lib\\site-packages (from tensorflow) (2.19.0)\n",
      "Requirement already satisfied: keras>=3.5.0 in c:\\users\\inhag\\.virtualenvs\\chapter6-jcyiwnwd\\lib\\site-packages (from tensorflow) (3.9.0)\n",
      "Requirement already satisfied: h5py>=3.11.0 in c:\\users\\inhag\\.virtualenvs\\chapter6-jcyiwnwd\\lib\\site-packages (from tensorflow) (3.13.0)\n",
      "Requirement already satisfied: ml-dtypes<1.0.0,>=0.5.1 in c:\\users\\inhag\\.virtualenvs\\chapter6-jcyiwnwd\\lib\\site-packages (from tensorflow) (0.5.1)\n",
      "Requirement already satisfied: contourpy>=1.0.1 in c:\\users\\inhag\\.virtualenvs\\chapter6-jcyiwnwd\\lib\\site-packages (from matplotlib) (1.3.1)\n",
      "Requirement already satisfied: cycler>=0.10 in c:\\users\\inhag\\.virtualenvs\\chapter6-jcyiwnwd\\lib\\site-packages (from matplotlib) (0.12.1)\n",
      "Requirement already satisfied: fonttools>=4.22.0 in c:\\users\\inhag\\.virtualenvs\\chapter6-jcyiwnwd\\lib\\site-packages (from matplotlib) (4.56.0)\n",
      "Requirement already satisfied: kiwisolver>=1.3.1 in c:\\users\\inhag\\.virtualenvs\\chapter6-jcyiwnwd\\lib\\site-packages (from matplotlib) (1.4.8)\n",
      "Requirement already satisfied: pillow>=8 in c:\\users\\inhag\\.virtualenvs\\chapter6-jcyiwnwd\\lib\\site-packages (from matplotlib) (11.1.0)\n",
      "Requirement already satisfied: pyparsing>=2.3.1 in c:\\users\\inhag\\.virtualenvs\\chapter6-jcyiwnwd\\lib\\site-packages (from matplotlib) (3.2.2)\n",
      "Requirement already satisfied: pyyaml in c:\\users\\inhag\\.virtualenvs\\chapter6-jcyiwnwd\\lib\\site-packages (from kagglehub) (6.0.2)\n",
      "Requirement already satisfied: tqdm in c:\\users\\inhag\\.virtualenvs\\chapter6-jcyiwnwd\\lib\\site-packages (from kagglehub) (4.67.1)\n",
      "Requirement already satisfied: wheel<1.0,>=0.23.0 in c:\\users\\inhag\\.virtualenvs\\chapter6-jcyiwnwd\\lib\\site-packages (from astunparse>=1.6.0->tensorflow) (0.45.1)\n",
      "Requirement already satisfied: rich in c:\\users\\inhag\\.virtualenvs\\chapter6-jcyiwnwd\\lib\\site-packages (from keras>=3.5.0->tensorflow) (13.9.4)\n",
      "Requirement already satisfied: namex in c:\\users\\inhag\\.virtualenvs\\chapter6-jcyiwnwd\\lib\\site-packages (from keras>=3.5.0->tensorflow) (0.0.8)\n",
      "Requirement already satisfied: optree in c:\\users\\inhag\\.virtualenvs\\chapter6-jcyiwnwd\\lib\\site-packages (from keras>=3.5.0->tensorflow) (0.14.1)\n",
      "Requirement already satisfied: charset-normalizer<4,>=2 in c:\\users\\inhag\\.virtualenvs\\chapter6-jcyiwnwd\\lib\\site-packages (from requests<3,>=2.21.0->tensorflow) (3.4.1)\n",
      "Requirement already satisfied: idna<4,>=2.5 in c:\\users\\inhag\\.virtualenvs\\chapter6-jcyiwnwd\\lib\\site-packages (from requests<3,>=2.21.0->tensorflow) (3.10)\n",
      "Requirement already satisfied: urllib3<3,>=1.21.1 in c:\\users\\inhag\\.virtualenvs\\chapter6-jcyiwnwd\\lib\\site-packages (from requests<3,>=2.21.0->tensorflow) (2.3.0)\n",
      "Requirement already satisfied: certifi>=2017.4.17 in c:\\users\\inhag\\.virtualenvs\\chapter6-jcyiwnwd\\lib\\site-packages (from requests<3,>=2.21.0->tensorflow) (2025.1.31)\n",
      "Requirement already satisfied: markdown>=2.6.8 in c:\\users\\inhag\\.virtualenvs\\chapter6-jcyiwnwd\\lib\\site-packages (from tensorboard~=2.19.0->tensorflow) (3.7)\n",
      "Requirement already satisfied: tensorboard-data-server<0.8.0,>=0.7.0 in c:\\users\\inhag\\.virtualenvs\\chapter6-jcyiwnwd\\lib\\site-packages (from tensorboard~=2.19.0->tensorflow) (0.7.2)\n",
      "Requirement already satisfied: werkzeug>=1.0.1 in c:\\users\\inhag\\.virtualenvs\\chapter6-jcyiwnwd\\lib\\site-packages (from tensorboard~=2.19.0->tensorflow) (3.1.3)\n",
      "Requirement already satisfied: colorama in c:\\users\\inhag\\.virtualenvs\\chapter6-jcyiwnwd\\lib\\site-packages (from tqdm->kagglehub) (0.4.6)\n",
      "Requirement already satisfied: MarkupSafe>=2.1.1 in c:\\users\\inhag\\.virtualenvs\\chapter6-jcyiwnwd\\lib\\site-packages (from werkzeug>=1.0.1->tensorboard~=2.19.0->tensorflow) (3.0.2)\n",
      "Requirement already satisfied: markdown-it-py>=2.2.0 in c:\\users\\inhag\\.virtualenvs\\chapter6-jcyiwnwd\\lib\\site-packages (from rich->keras>=3.5.0->tensorflow) (3.0.0)\n",
      "Requirement already satisfied: pygments<3.0.0,>=2.13.0 in c:\\users\\inhag\\.virtualenvs\\chapter6-jcyiwnwd\\lib\\site-packages (from rich->keras>=3.5.0->tensorflow) (2.19.1)\n",
      "Requirement already satisfied: mdurl~=0.1 in c:\\users\\inhag\\.virtualenvs\\chapter6-jcyiwnwd\\lib\\site-packages (from markdown-it-py>=2.2.0->rich->keras>=3.5.0->tensorflow) (0.1.2)\n"
     ]
    }
   ],
   "source": [
    "!pip install numpy pandas tensorflow matplotlib seaborn scipy kagglehub"
   ]
  },
  {
   "cell_type": "code",
   "execution_count": 2,
   "metadata": {},
   "outputs": [],
   "source": [
    "import numpy as np\n",
    "import pandas as pd\n",
    "import tensorflow as tf\n",
    "from tensorflow.keras import layers, models\n",
    "import matplotlib.pyplot as plt\n",
    "import seaborn as sns\n",
    "import os\n",
    "import xml.etree.ElementTree as ET\n",
    "import glob\n",
    "from scipy.interpolate import interp2d\n",
    "\n",
    "# 시각화 스타일 설정\n",
    "sns.set()"
   ]
  },
  {
   "cell_type": "code",
   "execution_count": 3,
   "metadata": {},
   "outputs": [
    {
     "name": "stderr",
     "output_type": "stream",
     "text": [
      "c:\\Users\\inhag\\.virtualenvs\\Chapter6-JcyiWNwd\\Lib\\site-packages\\tqdm\\auto.py:21: TqdmWarning: IProgress not found. Please update jupyter and ipywidgets. See https://ipywidgets.readthedocs.io/en/stable/user_install.html\n",
      "  from .autonotebook import tqdm as notebook_tqdm\n"
     ]
    },
    {
     "name": "stdout",
     "output_type": "stream",
     "text": [
      "Ohio 데이터셋을 다운로드 중입니다...\n",
      "캐시 경로: C:\\Users\\inhag\\.cache\\kagglehub\\datasets\\ryanmouton\\ohio-data-set\\versions\\1\n",
      "파일을 c:\\Users\\inhag\\DoctorCode-Workbook\\Chapter6\\ohio_data로 복사 중...\n",
      "파일이 c:\\Users\\inhag\\DoctorCode-Workbook\\Chapter6\\ohio_data로 복사되었습니다.\n",
      "복사된 파일 구조:\n",
      "ohio_data/\n",
      "    OhioT1DM/\n",
      "        2018/\n",
      "            test/\n",
      "                559-ws-testing.xml\n",
      "                563-ws-testing.xml\n",
      "                570-ws-testing.xml\n",
      "                575-ws-testing.xml\n",
      "                588-ws-testing.xml\n",
      "                ... 외 1개 파일\n",
      "            train/\n",
      "                559-ws-training.xml\n",
      "                563-ws-training.xml\n",
      "                570-ws-training.xml\n",
      "                575-ws-training.xml\n",
      "                588-ws-training.xml\n",
      "                ... 외 1개 파일\n",
      "        2020/\n",
      "            test/\n",
      "                540-ws-testing.xml\n",
      "                544-ws-testing.xml\n",
      "                552-ws-testing.xml\n",
      "                567-ws-testing.xml\n",
      "                584-ws-testing.xml\n",
      "                ... 외 1개 파일\n",
      "            train/\n",
      "                540-ws-training.xml\n",
      "                544-ws-training.xml\n",
      "                552-ws-training.xml\n",
      "                567-ws-training.xml\n",
      "                584-ws-training.xml\n",
      "                ... 외 1개 파일\n"
     ]
    }
   ],
   "source": [
    "# kagglehub로 다운로드한 파일을 현재 작업 폴더로 복사\n",
    "import kagglehub\n",
    "import shutil\n",
    "import os\n",
    "\n",
    "# 데이터셋 다운로드 (캐시에 저장됨)\n",
    "print(\"Ohio 데이터셋을 다운로드 중입니다...\")\n",
    "cache_path = kagglehub.dataset_download(\"ryanmouton/ohio-data-set\")\n",
    "print(f\"캐시 경로: {cache_path}\")\n",
    "\n",
    "# 현재 작업 디렉토리 내에 데이터 폴더 생성\n",
    "current_dir = os.getcwd()\n",
    "data_dir = os.path.join(current_dir, \"ohio_data\")\n",
    "os.makedirs(data_dir, exist_ok=True)\n",
    "\n",
    "# 캐시에서 현재 작업 폴더로 파일 복사\n",
    "print(f\"파일을 {data_dir}로 복사 중...\")\n",
    "\n",
    "# 전체 디렉토리 구조 복사\n",
    "for root, dirs, files in os.walk(cache_path):\n",
    "    # 대상 디렉토리 경로 생성\n",
    "    rel_path = os.path.relpath(root, cache_path)\n",
    "    dest_dir = os.path.join(data_dir, rel_path)\n",
    "    os.makedirs(dest_dir, exist_ok=True)\n",
    "    \n",
    "    # 파일 복사\n",
    "    for file in files:\n",
    "        src_file = os.path.join(root, file)\n",
    "        dest_file = os.path.join(dest_dir, file)\n",
    "        shutil.copy2(src_file, dest_file)\n",
    "\n",
    "print(f\"파일이 {data_dir}로 복사되었습니다.\")\n",
    "\n",
    "# xml_path 설정 (복사된 경로 기준)\n",
    "xml_path = os.path.join(data_dir, \"OhioT1DM-training\")\n",
    "\n",
    "# 복사된 파일 구조 확인\n",
    "print(\"복사된 파일 구조:\")\n",
    "for root, dirs, files in os.walk(data_dir):\n",
    "    level = root.replace(data_dir, '').count(os.sep)\n",
    "    indent = ' ' * 4 * level\n",
    "    print(f\"{indent}{os.path.basename(root)}/\")\n",
    "    sub_indent = ' ' * 4 * (level + 1)\n",
    "    for file in files[:5]:  # 각 디렉토리의 처음 5개 파일만 표시\n",
    "        print(f\"{sub_indent}{file}\")\n",
    "    if len(files) > 5:\n",
    "        print(f\"{sub_indent}... 외 {len(files)-5}개 파일\")"
   ]
  },
  {
   "cell_type": "markdown",
   "metadata": {},
   "source": [
    "#### 1. 유틸리티 함수 정의"
   ]
  },
  {
   "cell_type": "code",
   "execution_count": 4,
   "metadata": {},
   "outputs": [],
   "source": [
    "# 시퀀스를 윈도우로 나누는 함수\n",
    "def rolling_window(sequence, window):\n",
    "    \"\"\"시퀀스를 윈도우 크기로 나눕니다.\"\"\"\n",
    "    shape = sequence.shape[:-1] + (sequence.shape[-1] - window + 1, window)\n",
    "    strides = sequence.strides + (sequence.strides[-1],)\n",
    "    return np.lib.stride_tricks.as_strided(sequence, shape=shape, strides=strides)\n",
    "\n",
    "# 시퀀스를 지도학습 형태로 변환하는 함수\n",
    "def sequence_to_supervised(data, nb_past_steps, nb_steps_in_future):\n",
    "    \"\"\"시퀀스 데이터를 특성(과거 데이터)과 타겟(미래 데이터)으로 변환합니다.\"\"\"\n",
    "    x = rolling_window(data, nb_past_steps)\n",
    "    y = data[nb_past_steps+nb_steps_in_future-1::1]\n",
    "    \n",
    "    x, y = zip(*zip(x, y))\n",
    "    \n",
    "    return np.array(x), np.array(y)\n",
    "\n",
    "# 데이터를 훈련, 검증, 테스트 세트로 나누는 함수\n",
    "def split_data(xs, train_fraction, valid_fraction, test_fraction):\n",
    "    \"\"\"데이터를 훈련, 검증, 테스트 세트로 분할합니다.\"\"\"\n",
    "    n = len(xs)\n",
    "    nb_train = int(np.ceil(train_fraction*n))\n",
    "    nb_valid = int(np.ceil(valid_fraction*n))\n",
    "    i_end_train = nb_train\n",
    "    i_end_valid = nb_train+nb_valid\n",
    "    \n",
    "    return np.split(xs, [i_end_train, i_end_valid])"
   ]
  },
  {
   "cell_type": "markdown",
   "metadata": {},
   "source": [
    "#### 2. 데이터 로드 함수"
   ]
  },
  {
   "cell_type": "code",
   "execution_count": 5,
   "metadata": {},
   "outputs": [],
   "source": [
    "# Ohio 데이터셋의 시계열 로드 함수\n",
    "def load_ohio_series(xml_path, variate_name, attribute, time_attribue=\"ts\"):\n",
    "    \"\"\"XML 파일에서 시계열 데이터를 로드합니다.\"\"\"\n",
    "    tree = ET.parse(xml_path)\n",
    "    root = tree.getroot()\n",
    "    for child in root:\n",
    "        if child.tag == variate_name:\n",
    "            dates = []\n",
    "            values = []\n",
    "            for event in child:\n",
    "                ts = event.attrib[time_attribue]\n",
    "                date = pd.to_datetime(ts, format='%d-%m-%Y %H:%M:%S')\n",
    "                date = date.replace(second=0)\n",
    "                value = float(event.attrib[attribute])\n",
    "                dates.append(date)\n",
    "                values.append(value)\n",
    "            index = pd.DatetimeIndex(dates)\n",
    "            series = pd.Series(values, index=index)\n",
    "            return series\n",
    "\n",
    "# 혈당 데이터 로드 함수\n",
    "def load_glucose_data(xml_path, nb_past_steps, nb_future_steps):\n",
    "    \"\"\"XML 파일에서 혈당 데이터를 로드하고 지도학습 형태로 변환합니다.\"\"\"\n",
    "    df_glucose_level = load_ohio_series(xml_path, \"glucose_level\", \"value\")\n",
    "    dt = df_glucose_level.index.to_series().diff().dropna()\n",
    "    idx_breaks = np.argwhere(dt!=pd.Timedelta(5, 'm'))\n",
    "    \n",
    "    # 혈당 수치를 numpy 배열로 변환\n",
    "    nd_glucose_level = df_glucose_level.values\n",
    "    consecutive_segments = np.split(nd_glucose_level, idx_breaks.flatten())\n",
    "    \n",
    "    # 필요한 길이의 연속 세그먼트만 선택\n",
    "    consecutive_segments = [c for c in consecutive_segments if len(c) >= \n",
    "            nb_past_steps+nb_future_steps]\n",
    "    \n",
    "    # 각 세그먼트를 지도학습 형태로 변환\n",
    "    sups = [sequence_to_supervised(c, nb_past_steps, nb_future_steps) for \n",
    "            c in consecutive_segments]\n",
    "    \n",
    "    xss = [sup[0] for sup in sups]\n",
    "    yss = [sup[1] for sup in sups]\n",
    "    \n",
    "    xs = np.concatenate(xss)\n",
    "    ys = np.concatenate(yss)\n",
    "    \n",
    "    return np.expand_dims(xs, axis=2), ys\n",
    "\n",
    "# 단일 환자 데이터 로드 함수\n",
    "def load_data(xml_path, nb_past_steps, nb_future_steps, train_fraction, valid_fraction, test_fraction, scale):\n",
    "    \"\"\"단일 환자의 데이터를 로드하고 전처리합니다.\"\"\"\n",
    "    xs, ys = load_glucose_data(xml_path, nb_past_steps, nb_future_steps)\n",
    "    ys = np.expand_dims(ys, axis=1)\n",
    "    \n",
    "    # 데이터 분할\n",
    "    x_train, x_valid, x_test = split_data(xs, train_fraction,\n",
    "            valid_fraction, test_fraction)\n",
    "    y_train, y_valid, y_test = split_data(ys, train_fraction,\n",
    "            valid_fraction, test_fraction)\n",
    "    \n",
    "    # 데이터 스케일링\n",
    "    x_train *= scale\n",
    "    y_train *= scale\n",
    "    x_valid *= scale\n",
    "    y_valid *= scale\n",
    "    x_test  *= scale\n",
    "    y_test  *= scale\n",
    "    \n",
    "    return x_train, y_train, x_valid, y_valid, x_test, y_test\n",
    "\n",
    "# Ohio 데이터셋 로드 함수 수정\n",
    "def load_dataset(data_dir, nb_past_steps, nb_future_steps, train_fraction, valid_fraction, test_fraction, scale):\n",
    "    \"\"\"\n",
    "    Ohio 데이터셋의 구조(연도별, train/test)에 맞게 데이터를 로드하고 병합합니다.\n",
    "    \"\"\"\n",
    "    print(\"모든 환자의 훈련 데이터를 로드합니다...\")\n",
    "    \n",
    "    # 연도별 디렉토리 탐색\n",
    "    year_dirs = glob.glob(os.path.join(data_dir, \"*\"))\n",
    "    print(f\"발견된 연도 디렉토리: {[os.path.basename(d) for d in year_dirs]}\")\n",
    "    \n",
    "    # 모든 연도의 train 디렉토리에서 XML 파일 수집\n",
    "    train_xml_paths = []\n",
    "    for year_dir in year_dirs:\n",
    "        train_dir = os.path.join(year_dir, \"train\")\n",
    "        if os.path.exists(train_dir):\n",
    "            xml_files = glob.glob(os.path.join(train_dir, \"*.xml\"))\n",
    "            train_xml_paths.extend(xml_files)\n",
    "            print(f\"{os.path.basename(year_dir)}년 훈련 XML 파일: {len(xml_files)}개\")\n",
    "    \n",
    "    # 훈련 XML 파일이 없으면 종료\n",
    "    if not train_xml_paths:\n",
    "        print(\"오류: 훈련 XML 파일을 찾을 수 없습니다.\")\n",
    "        print(\"데이터셋 구조를 확인하세요.\")\n",
    "        return None, None, None, None, None, None\n",
    "    \n",
    "    print(f\"총 {len(train_xml_paths)}개의 훈련 XML 파일을 발견했습니다.\")\n",
    "    \n",
    "    # 각 XML 파일에서 데이터 로드\n",
    "    tups = []\n",
    "    for xml_path in train_xml_paths:\n",
    "        print(f\"파일 로드 중: {os.path.basename(xml_path)}\")\n",
    "        try:\n",
    "            tup = load_data(xml_path, nb_past_steps, nb_future_steps, train_fraction, valid_fraction, test_fraction, scale)\n",
    "            tups.append(tup)\n",
    "            print(f\"성공적으로 로드됨: {os.path.basename(xml_path)}\")\n",
    "        except Exception as e:\n",
    "            print(f\"파일 로드 실패: {os.path.basename(xml_path)}, 오류: {str(e)}\")\n",
    "    \n",
    "    # 데이터 병합\n",
    "    if tups:\n",
    "        print(\"데이터 병합 중...\")\n",
    "        x_train = np.concatenate([t[0] for t in tups], axis=0)\n",
    "        y_train = np.concatenate([t[1] for t in tups], axis=0)\n",
    "        x_valid = np.concatenate([t[2] for t in tups], axis=0)\n",
    "        y_valid = np.concatenate([t[3] for t in tups], axis=0)\n",
    "        x_test = np.concatenate([t[4] for t in tups], axis=0)\n",
    "        y_test = np.concatenate([t[5] for t in tups], axis=0)\n",
    "        \n",
    "        return x_train, y_train, x_valid, y_valid, x_test, y_test\n",
    "    else:\n",
    "        print(\"로드된 데이터가 없습니다.\")\n",
    "        return None, None, None, None, None, None"
   ]
  },
  {
   "cell_type": "markdown",
   "metadata": {},
   "source": [
    "#### 3. 손실 함수 및 평가 지표"
   ]
  },
  {
   "cell_type": "code",
   "execution_count": 6,
   "metadata": {},
   "outputs": [],
   "source": [
    "# 음의 로그 우도 손실 함수\n",
    "def tf_nll(y_true, y_pred):\n",
    "    \"\"\"음의 로그 우도 손실 함수입니다.\"\"\"\n",
    "    y_var = y_pred[:,:1]  # 분산\n",
    "    y_mean = y_pred[:,1:]  # 평균\n",
    "    y_std = y_var  # 표준편차\n",
    "    \n",
    "    # TF 2.x에서는 다음과 같이 수정\n",
    "    from tensorflow.keras import backend as K\n",
    "    from tensorflow import math as tfm\n",
    "    \n",
    "    # 정규 분포 확률 밀도 함수 계산\n",
    "    exponent = -0.5 * tfm.square((y_true - y_mean) / y_std)\n",
    "    coefficient = 1.0 / (y_std * tfm.sqrt(2.0 * np.pi))\n",
    "    probs = coefficient * tfm.exp(exponent)\n",
    "    \n",
    "    return K.mean(-tfm.log(K.epsilon() + probs))\n",
    "\n",
    "# RMSE 계산 함수\n",
    "def root_mean_squared_error(targets, predictions):\n",
    "    \"\"\"평균 제곱근 오차(RMSE)를 계산합니다.\"\"\"\n",
    "    return np.sqrt(np.mean(np.power(targets-predictions, 2)))\n",
    "\n",
    "# 감시 오류 그리드(SEG) 계산 함수\n",
    "def surveillance_error(targets, predictions):\n",
    "    \"\"\"감시 오류 그리드(SEG) 점수를 계산합니다.\"\"\"\n",
    "    # seg.csv 파일이 현재 디렉토리에 있다고 가정합니다\n",
    "    data = np.loadtxt('seg.csv')\n",
    "    \n",
    "    xs = np.linspace(0, 600, data.shape[0])\n",
    "    ys = np.linspace(0, 600, data.shape[1])\n",
    "    f = interp2d(xs, ys, np.transpose(data))\n",
    "    \n",
    "    scores = np.concatenate([f(t, p) for (t, p) in zip(targets, predictions)])\n",
    "    return np.mean(scores), np.std(scores)"
   ]
  },
  {
   "cell_type": "markdown",
   "metadata": {},
   "source": [
    "#### 4. 모델 정의"
   ]
  },
  {
   "cell_type": "code",
   "execution_count": 7,
   "metadata": {},
   "outputs": [],
   "source": [
    "# 활성화 함수 선택 함수\n",
    "def get_activation_function_by_name(name='exp'):\n",
    "    \"\"\"이름으로 활성화 함수를 반환합니다.\"\"\"\n",
    "    if name == 'exp':\n",
    "        return tf.exp\n",
    "    elif name == 'softplus':\n",
    "        return tf.math.softplus\n",
    "    elif name == 'relu':\n",
    "        return tf.nn.relu\n",
    "    else:\n",
    "        raise ValueError(\"지원되지 않는 활성화 함수입니다: {}\".format(name))\n",
    "\n",
    "# 모델 생성 함수\n",
    "def create_model(input_shape, output_shape, nb_lstm_states=256, activation_function='exp'):\n",
    "    \"\"\"LSTM 기반 혈당 예측 모델을 생성합니다.\"\"\"\n",
    "    inputs = tf.keras.layers.Input(shape=input_shape)\n",
    "    \n",
    "    # TF 2.x에서는 CuDNNLSTM 대신 LSTM 사용\n",
    "    x = tf.keras.layers.LSTM(units=nb_lstm_states, unit_forget_bias=True)(inputs)\n",
    "    \n",
    "    x = tf.keras.layers.Dense(512)(x)\n",
    "    x = tf.keras.layers.Activation('relu')(x)\n",
    "    x = tf.keras.layers.Dropout(0.2)(x)\n",
    "    \n",
    "    x = tf.keras.layers.Dense(256)(x)\n",
    "    x = tf.keras.layers.Activation('relu')(x)\n",
    "    x = tf.keras.layers.Dropout(0.3)(x)\n",
    "    \n",
    "    mu = tf.keras.layers.Dense(1)(x)\n",
    "    std = tf.keras.layers.Dense(1)(x)\n",
    "    activation_fn = get_activation_function_by_name(activation_function)\n",
    "    std = tf.keras.layers.Lambda(activation_fn, name=\"exponential_activation\")(std)\n",
    "    \n",
    "    output = tf.keras.layers.Concatenate(axis=-1)([std, mu])\n",
    "    model = tf.keras.models.Model(inputs=[inputs], outputs=[output])\n",
    "    \n",
    "    return model"
   ]
  },
  {
   "cell_type": "markdown",
   "metadata": {},
   "source": [
    "#### 5. 학습 및 평가"
   ]
  },
  {
   "cell_type": "code",
   "execution_count": 8,
   "metadata": {},
   "outputs": [
    {
     "name": "stdout",
     "output_type": "stream",
     "text": [
      "데이터를 로드 중입니다...\n",
      "모든 환자의 훈련 데이터를 로드합니다...\n",
      "발견된 연도 디렉토리: ['2018', '2020']\n",
      "2018년 훈련 XML 파일: 6개\n",
      "2020년 훈련 XML 파일: 6개\n",
      "총 12개의 훈련 XML 파일을 발견했습니다.\n",
      "파일 로드 중: 559-ws-training.xml\n",
      "성공적으로 로드됨: 559-ws-training.xml\n",
      "파일 로드 중: 563-ws-training.xml\n",
      "성공적으로 로드됨: 563-ws-training.xml\n",
      "파일 로드 중: 570-ws-training.xml\n",
      "성공적으로 로드됨: 570-ws-training.xml\n",
      "파일 로드 중: 575-ws-training.xml\n",
      "성공적으로 로드됨: 575-ws-training.xml\n",
      "파일 로드 중: 588-ws-training.xml\n",
      "성공적으로 로드됨: 588-ws-training.xml\n",
      "파일 로드 중: 591-ws-training.xml\n",
      "성공적으로 로드됨: 591-ws-training.xml\n",
      "파일 로드 중: 540-ws-training.xml\n",
      "성공적으로 로드됨: 540-ws-training.xml\n",
      "파일 로드 중: 544-ws-training.xml\n",
      "성공적으로 로드됨: 544-ws-training.xml\n",
      "파일 로드 중: 552-ws-training.xml\n",
      "성공적으로 로드됨: 552-ws-training.xml\n",
      "파일 로드 중: 567-ws-training.xml\n",
      "성공적으로 로드됨: 567-ws-training.xml\n",
      "파일 로드 중: 584-ws-training.xml\n",
      "성공적으로 로드됨: 584-ws-training.xml\n",
      "파일 로드 중: 596-ws-training.xml\n",
      "성공적으로 로드됨: 596-ws-training.xml\n",
      "데이터 병합 중...\n",
      "데이터 형태:\n",
      "x_train.shape: (101816, 12, 1)\n",
      "y_train.shape: (101816, 1)\n",
      "x_valid.shape: (25449, 12, 1)\n",
      "y_valid.shape: (25449, 1)\n",
      "모델을 생성 중입니다...\n",
      "WARNING:tensorflow:From c:\\Users\\inhag\\.virtualenvs\\Chapter6-JcyiWNwd\\Lib\\site-packages\\keras\\src\\backend\\tensorflow\\core.py:219: The name tf.placeholder is deprecated. Please use tf.compat.v1.placeholder instead.\n",
      "\n"
     ]
    },
    {
     "data": {
      "text/html": [
       "<pre style=\"white-space:pre;overflow-x:auto;line-height:normal;font-family:Menlo,'DejaVu Sans Mono',consolas,'Courier New',monospace\"><span style=\"font-weight: bold\">Model: \"functional\"</span>\n",
       "</pre>\n"
      ],
      "text/plain": [
       "\u001b[1mModel: \"functional\"\u001b[0m\n"
      ]
     },
     "metadata": {},
     "output_type": "display_data"
    },
    {
     "data": {
      "text/html": [
       "<pre style=\"white-space:pre;overflow-x:auto;line-height:normal;font-family:Menlo,'DejaVu Sans Mono',consolas,'Courier New',monospace\">┏━━━━━━━━━━━━━━━━━━━━━┳━━━━━━━━━━━━━━━━━━━┳━━━━━━━━━━━━┳━━━━━━━━━━━━━━━━━━━┓\n",
       "┃<span style=\"font-weight: bold\"> Layer (type)        </span>┃<span style=\"font-weight: bold\"> Output Shape      </span>┃<span style=\"font-weight: bold\">    Param # </span>┃<span style=\"font-weight: bold\"> Connected to      </span>┃\n",
       "┡━━━━━━━━━━━━━━━━━━━━━╇━━━━━━━━━━━━━━━━━━━╇━━━━━━━━━━━━╇━━━━━━━━━━━━━━━━━━━┩\n",
       "│ input_layer         │ (<span style=\"color: #00d7ff; text-decoration-color: #00d7ff\">None</span>, <span style=\"color: #00af00; text-decoration-color: #00af00\">12</span>, <span style=\"color: #00af00; text-decoration-color: #00af00\">1</span>)     │          <span style=\"color: #00af00; text-decoration-color: #00af00\">0</span> │ -                 │\n",
       "│ (<span style=\"color: #0087ff; text-decoration-color: #0087ff\">InputLayer</span>)        │                   │            │                   │\n",
       "├─────────────────────┼───────────────────┼────────────┼───────────────────┤\n",
       "│ lstm (<span style=\"color: #0087ff; text-decoration-color: #0087ff\">LSTM</span>)         │ (<span style=\"color: #00d7ff; text-decoration-color: #00d7ff\">None</span>, <span style=\"color: #00af00; text-decoration-color: #00af00\">256</span>)       │    <span style=\"color: #00af00; text-decoration-color: #00af00\">264,192</span> │ input_layer[<span style=\"color: #00af00; text-decoration-color: #00af00\">0</span>][<span style=\"color: #00af00; text-decoration-color: #00af00\">0</span>] │\n",
       "├─────────────────────┼───────────────────┼────────────┼───────────────────┤\n",
       "│ dense (<span style=\"color: #0087ff; text-decoration-color: #0087ff\">Dense</span>)       │ (<span style=\"color: #00d7ff; text-decoration-color: #00d7ff\">None</span>, <span style=\"color: #00af00; text-decoration-color: #00af00\">512</span>)       │    <span style=\"color: #00af00; text-decoration-color: #00af00\">131,584</span> │ lstm[<span style=\"color: #00af00; text-decoration-color: #00af00\">0</span>][<span style=\"color: #00af00; text-decoration-color: #00af00\">0</span>]        │\n",
       "├─────────────────────┼───────────────────┼────────────┼───────────────────┤\n",
       "│ activation          │ (<span style=\"color: #00d7ff; text-decoration-color: #00d7ff\">None</span>, <span style=\"color: #00af00; text-decoration-color: #00af00\">512</span>)       │          <span style=\"color: #00af00; text-decoration-color: #00af00\">0</span> │ dense[<span style=\"color: #00af00; text-decoration-color: #00af00\">0</span>][<span style=\"color: #00af00; text-decoration-color: #00af00\">0</span>]       │\n",
       "│ (<span style=\"color: #0087ff; text-decoration-color: #0087ff\">Activation</span>)        │                   │            │                   │\n",
       "├─────────────────────┼───────────────────┼────────────┼───────────────────┤\n",
       "│ dropout (<span style=\"color: #0087ff; text-decoration-color: #0087ff\">Dropout</span>)   │ (<span style=\"color: #00d7ff; text-decoration-color: #00d7ff\">None</span>, <span style=\"color: #00af00; text-decoration-color: #00af00\">512</span>)       │          <span style=\"color: #00af00; text-decoration-color: #00af00\">0</span> │ activation[<span style=\"color: #00af00; text-decoration-color: #00af00\">0</span>][<span style=\"color: #00af00; text-decoration-color: #00af00\">0</span>]  │\n",
       "├─────────────────────┼───────────────────┼────────────┼───────────────────┤\n",
       "│ dense_1 (<span style=\"color: #0087ff; text-decoration-color: #0087ff\">Dense</span>)     │ (<span style=\"color: #00d7ff; text-decoration-color: #00d7ff\">None</span>, <span style=\"color: #00af00; text-decoration-color: #00af00\">256</span>)       │    <span style=\"color: #00af00; text-decoration-color: #00af00\">131,328</span> │ dropout[<span style=\"color: #00af00; text-decoration-color: #00af00\">0</span>][<span style=\"color: #00af00; text-decoration-color: #00af00\">0</span>]     │\n",
       "├─────────────────────┼───────────────────┼────────────┼───────────────────┤\n",
       "│ activation_1        │ (<span style=\"color: #00d7ff; text-decoration-color: #00d7ff\">None</span>, <span style=\"color: #00af00; text-decoration-color: #00af00\">256</span>)       │          <span style=\"color: #00af00; text-decoration-color: #00af00\">0</span> │ dense_1[<span style=\"color: #00af00; text-decoration-color: #00af00\">0</span>][<span style=\"color: #00af00; text-decoration-color: #00af00\">0</span>]     │\n",
       "│ (<span style=\"color: #0087ff; text-decoration-color: #0087ff\">Activation</span>)        │                   │            │                   │\n",
       "├─────────────────────┼───────────────────┼────────────┼───────────────────┤\n",
       "│ dropout_1 (<span style=\"color: #0087ff; text-decoration-color: #0087ff\">Dropout</span>) │ (<span style=\"color: #00d7ff; text-decoration-color: #00d7ff\">None</span>, <span style=\"color: #00af00; text-decoration-color: #00af00\">256</span>)       │          <span style=\"color: #00af00; text-decoration-color: #00af00\">0</span> │ activation_1[<span style=\"color: #00af00; text-decoration-color: #00af00\">0</span>][<span style=\"color: #00af00; text-decoration-color: #00af00\">…</span> │\n",
       "├─────────────────────┼───────────────────┼────────────┼───────────────────┤\n",
       "│ dense_3 (<span style=\"color: #0087ff; text-decoration-color: #0087ff\">Dense</span>)     │ (<span style=\"color: #00d7ff; text-decoration-color: #00d7ff\">None</span>, <span style=\"color: #00af00; text-decoration-color: #00af00\">1</span>)         │        <span style=\"color: #00af00; text-decoration-color: #00af00\">257</span> │ dropout_1[<span style=\"color: #00af00; text-decoration-color: #00af00\">0</span>][<span style=\"color: #00af00; text-decoration-color: #00af00\">0</span>]   │\n",
       "├─────────────────────┼───────────────────┼────────────┼───────────────────┤\n",
       "│ exponential_activa… │ (<span style=\"color: #00d7ff; text-decoration-color: #00d7ff\">None</span>, <span style=\"color: #00af00; text-decoration-color: #00af00\">1</span>)         │          <span style=\"color: #00af00; text-decoration-color: #00af00\">0</span> │ dense_3[<span style=\"color: #00af00; text-decoration-color: #00af00\">0</span>][<span style=\"color: #00af00; text-decoration-color: #00af00\">0</span>]     │\n",
       "│ (<span style=\"color: #0087ff; text-decoration-color: #0087ff\">Lambda</span>)            │                   │            │                   │\n",
       "├─────────────────────┼───────────────────┼────────────┼───────────────────┤\n",
       "│ dense_2 (<span style=\"color: #0087ff; text-decoration-color: #0087ff\">Dense</span>)     │ (<span style=\"color: #00d7ff; text-decoration-color: #00d7ff\">None</span>, <span style=\"color: #00af00; text-decoration-color: #00af00\">1</span>)         │        <span style=\"color: #00af00; text-decoration-color: #00af00\">257</span> │ dropout_1[<span style=\"color: #00af00; text-decoration-color: #00af00\">0</span>][<span style=\"color: #00af00; text-decoration-color: #00af00\">0</span>]   │\n",
       "├─────────────────────┼───────────────────┼────────────┼───────────────────┤\n",
       "│ concatenate         │ (<span style=\"color: #00d7ff; text-decoration-color: #00d7ff\">None</span>, <span style=\"color: #00af00; text-decoration-color: #00af00\">2</span>)         │          <span style=\"color: #00af00; text-decoration-color: #00af00\">0</span> │ exponential_acti… │\n",
       "│ (<span style=\"color: #0087ff; text-decoration-color: #0087ff\">Concatenate</span>)       │                   │            │ dense_2[<span style=\"color: #00af00; text-decoration-color: #00af00\">0</span>][<span style=\"color: #00af00; text-decoration-color: #00af00\">0</span>]     │\n",
       "└─────────────────────┴───────────────────┴────────────┴───────────────────┘\n",
       "</pre>\n"
      ],
      "text/plain": [
       "┏━━━━━━━━━━━━━━━━━━━━━┳━━━━━━━━━━━━━━━━━━━┳━━━━━━━━━━━━┳━━━━━━━━━━━━━━━━━━━┓\n",
       "┃\u001b[1m \u001b[0m\u001b[1mLayer (type)       \u001b[0m\u001b[1m \u001b[0m┃\u001b[1m \u001b[0m\u001b[1mOutput Shape     \u001b[0m\u001b[1m \u001b[0m┃\u001b[1m \u001b[0m\u001b[1m   Param #\u001b[0m\u001b[1m \u001b[0m┃\u001b[1m \u001b[0m\u001b[1mConnected to     \u001b[0m\u001b[1m \u001b[0m┃\n",
       "┡━━━━━━━━━━━━━━━━━━━━━╇━━━━━━━━━━━━━━━━━━━╇━━━━━━━━━━━━╇━━━━━━━━━━━━━━━━━━━┩\n",
       "│ input_layer         │ (\u001b[38;5;45mNone\u001b[0m, \u001b[38;5;34m12\u001b[0m, \u001b[38;5;34m1\u001b[0m)     │          \u001b[38;5;34m0\u001b[0m │ -                 │\n",
       "│ (\u001b[38;5;33mInputLayer\u001b[0m)        │                   │            │                   │\n",
       "├─────────────────────┼───────────────────┼────────────┼───────────────────┤\n",
       "│ lstm (\u001b[38;5;33mLSTM\u001b[0m)         │ (\u001b[38;5;45mNone\u001b[0m, \u001b[38;5;34m256\u001b[0m)       │    \u001b[38;5;34m264,192\u001b[0m │ input_layer[\u001b[38;5;34m0\u001b[0m][\u001b[38;5;34m0\u001b[0m] │\n",
       "├─────────────────────┼───────────────────┼────────────┼───────────────────┤\n",
       "│ dense (\u001b[38;5;33mDense\u001b[0m)       │ (\u001b[38;5;45mNone\u001b[0m, \u001b[38;5;34m512\u001b[0m)       │    \u001b[38;5;34m131,584\u001b[0m │ lstm[\u001b[38;5;34m0\u001b[0m][\u001b[38;5;34m0\u001b[0m]        │\n",
       "├─────────────────────┼───────────────────┼────────────┼───────────────────┤\n",
       "│ activation          │ (\u001b[38;5;45mNone\u001b[0m, \u001b[38;5;34m512\u001b[0m)       │          \u001b[38;5;34m0\u001b[0m │ dense[\u001b[38;5;34m0\u001b[0m][\u001b[38;5;34m0\u001b[0m]       │\n",
       "│ (\u001b[38;5;33mActivation\u001b[0m)        │                   │            │                   │\n",
       "├─────────────────────┼───────────────────┼────────────┼───────────────────┤\n",
       "│ dropout (\u001b[38;5;33mDropout\u001b[0m)   │ (\u001b[38;5;45mNone\u001b[0m, \u001b[38;5;34m512\u001b[0m)       │          \u001b[38;5;34m0\u001b[0m │ activation[\u001b[38;5;34m0\u001b[0m][\u001b[38;5;34m0\u001b[0m]  │\n",
       "├─────────────────────┼───────────────────┼────────────┼───────────────────┤\n",
       "│ dense_1 (\u001b[38;5;33mDense\u001b[0m)     │ (\u001b[38;5;45mNone\u001b[0m, \u001b[38;5;34m256\u001b[0m)       │    \u001b[38;5;34m131,328\u001b[0m │ dropout[\u001b[38;5;34m0\u001b[0m][\u001b[38;5;34m0\u001b[0m]     │\n",
       "├─────────────────────┼───────────────────┼────────────┼───────────────────┤\n",
       "│ activation_1        │ (\u001b[38;5;45mNone\u001b[0m, \u001b[38;5;34m256\u001b[0m)       │          \u001b[38;5;34m0\u001b[0m │ dense_1[\u001b[38;5;34m0\u001b[0m][\u001b[38;5;34m0\u001b[0m]     │\n",
       "│ (\u001b[38;5;33mActivation\u001b[0m)        │                   │            │                   │\n",
       "├─────────────────────┼───────────────────┼────────────┼───────────────────┤\n",
       "│ dropout_1 (\u001b[38;5;33mDropout\u001b[0m) │ (\u001b[38;5;45mNone\u001b[0m, \u001b[38;5;34m256\u001b[0m)       │          \u001b[38;5;34m0\u001b[0m │ activation_1[\u001b[38;5;34m0\u001b[0m][\u001b[38;5;34m…\u001b[0m │\n",
       "├─────────────────────┼───────────────────┼────────────┼───────────────────┤\n",
       "│ dense_3 (\u001b[38;5;33mDense\u001b[0m)     │ (\u001b[38;5;45mNone\u001b[0m, \u001b[38;5;34m1\u001b[0m)         │        \u001b[38;5;34m257\u001b[0m │ dropout_1[\u001b[38;5;34m0\u001b[0m][\u001b[38;5;34m0\u001b[0m]   │\n",
       "├─────────────────────┼───────────────────┼────────────┼───────────────────┤\n",
       "│ exponential_activa… │ (\u001b[38;5;45mNone\u001b[0m, \u001b[38;5;34m1\u001b[0m)         │          \u001b[38;5;34m0\u001b[0m │ dense_3[\u001b[38;5;34m0\u001b[0m][\u001b[38;5;34m0\u001b[0m]     │\n",
       "│ (\u001b[38;5;33mLambda\u001b[0m)            │                   │            │                   │\n",
       "├─────────────────────┼───────────────────┼────────────┼───────────────────┤\n",
       "│ dense_2 (\u001b[38;5;33mDense\u001b[0m)     │ (\u001b[38;5;45mNone\u001b[0m, \u001b[38;5;34m1\u001b[0m)         │        \u001b[38;5;34m257\u001b[0m │ dropout_1[\u001b[38;5;34m0\u001b[0m][\u001b[38;5;34m0\u001b[0m]   │\n",
       "├─────────────────────┼───────────────────┼────────────┼───────────────────┤\n",
       "│ concatenate         │ (\u001b[38;5;45mNone\u001b[0m, \u001b[38;5;34m2\u001b[0m)         │          \u001b[38;5;34m0\u001b[0m │ exponential_acti… │\n",
       "│ (\u001b[38;5;33mConcatenate\u001b[0m)       │                   │            │ dense_2[\u001b[38;5;34m0\u001b[0m][\u001b[38;5;34m0\u001b[0m]     │\n",
       "└─────────────────────┴───────────────────┴────────────┴───────────────────┘\n"
      ]
     },
     "metadata": {},
     "output_type": "display_data"
    },
    {
     "data": {
      "text/html": [
       "<pre style=\"white-space:pre;overflow-x:auto;line-height:normal;font-family:Menlo,'DejaVu Sans Mono',consolas,'Courier New',monospace\"><span style=\"font-weight: bold\"> Total params: </span><span style=\"color: #00af00; text-decoration-color: #00af00\">527,618</span> (2.01 MB)\n",
       "</pre>\n"
      ],
      "text/plain": [
       "\u001b[1m Total params: \u001b[0m\u001b[38;5;34m527,618\u001b[0m (2.01 MB)\n"
      ]
     },
     "metadata": {},
     "output_type": "display_data"
    },
    {
     "data": {
      "text/html": [
       "<pre style=\"white-space:pre;overflow-x:auto;line-height:normal;font-family:Menlo,'DejaVu Sans Mono',consolas,'Courier New',monospace\"><span style=\"font-weight: bold\"> Trainable params: </span><span style=\"color: #00af00; text-decoration-color: #00af00\">527,618</span> (2.01 MB)\n",
       "</pre>\n"
      ],
      "text/plain": [
       "\u001b[1m Trainable params: \u001b[0m\u001b[38;5;34m527,618\u001b[0m (2.01 MB)\n"
      ]
     },
     "metadata": {},
     "output_type": "display_data"
    },
    {
     "data": {
      "text/html": [
       "<pre style=\"white-space:pre;overflow-x:auto;line-height:normal;font-family:Menlo,'DejaVu Sans Mono',consolas,'Courier New',monospace\"><span style=\"font-weight: bold\"> Non-trainable params: </span><span style=\"color: #00af00; text-decoration-color: #00af00\">0</span> (0.00 B)\n",
       "</pre>\n"
      ],
      "text/plain": [
       "\u001b[1m Non-trainable params: \u001b[0m\u001b[38;5;34m0\u001b[0m (0.00 B)\n"
      ]
     },
     "metadata": {},
     "output_type": "display_data"
    }
   ],
   "source": [
    "# 매개변수 설정\n",
    "# Ohio 데이터셋 경로 설정\n",
    "ohio_data_dir = os.path.join(\"./ohio_data\", \"OhioT1DM\")\n",
    "nb_past_steps = 12\n",
    "nb_future_steps = 6  # 6 또는 12\n",
    "train_fraction = 0.8\n",
    "valid_fraction = 0.2\n",
    "test_fraction = 0.0\n",
    "scale = 0.01\n",
    "nb_lstm_states = 256\n",
    "activation_function = 'exp'\n",
    "learning_rate = 1e-3\n",
    "batch_size = 1024\n",
    "epochs = 100\n",
    "patience = 20\n",
    "shuffle = True\n",
    "artifacts_path = './artifacts/'\n",
    "\n",
    "# 디렉토리 생성\n",
    "os.makedirs(artifacts_path, exist_ok=True)\n",
    "\n",
    "# 데이터 로드\n",
    "print(\"데이터를 로드 중입니다...\")\n",
    "x_train, y_train, x_valid, y_valid, x_test, y_test = load_dataset(\n",
    "    ohio_data_dir,\n",
    "    nb_past_steps, \n",
    "    nb_future_steps, \n",
    "    train_fraction, \n",
    "    valid_fraction, \n",
    "    test_fraction, \n",
    "    scale\n",
    ")\n",
    "\n",
    "print(\"데이터 형태:\")\n",
    "print(f\"x_train.shape: {x_train.shape}\")\n",
    "print(f\"y_train.shape: {y_train.shape}\")\n",
    "print(f\"x_valid.shape: {x_valid.shape}\")\n",
    "print(f\"y_valid.shape: {y_valid.shape}\")\n",
    "\n",
    "# 모델 생성\n",
    "print(\"모델을 생성 중입니다...\")\n",
    "model = create_model(\n",
    "    x_train.shape[1:],\n",
    "    y_train.shape[1]*2,\n",
    "    nb_lstm_states=nb_lstm_states,\n",
    "    activation_function=activation_function\n",
    ")\n",
    "\n",
    "# 옵티마이저 설정\n",
    "optimizer = tf.keras.optimizers.Adam(learning_rate=learning_rate)\n",
    "\n",
    "# 모델 컴파일\n",
    "model.compile(optimizer=optimizer, loss=tf_nll)\n",
    "model.summary()\n"
   ]
  },
  {
   "cell_type": "code",
   "execution_count": 9,
   "metadata": {},
   "outputs": [
    {
     "name": "stdout",
     "output_type": "stream",
     "text": [
      "Epoch 1/100\n"
     ]
    },
    {
     "name": "stderr",
     "output_type": "stream",
     "text": [
      "c:\\Users\\inhag\\.virtualenvs\\Chapter6-JcyiWNwd\\Lib\\site-packages\\keras\\src\\models\\functional.py:238: UserWarning: The structure of `inputs` doesn't match the expected structure.\n",
      "Expected: ['keras_tensor']\n",
      "Received: inputs=Tensor(shape=(None, 12, 1))\n",
      "  warnings.warn(msg)\n"
     ]
    },
    {
     "name": "stdout",
     "output_type": "stream",
     "text": [
      "\u001b[1m 99/100\u001b[0m \u001b[32m━━━━━━━━━━━━━━━━━━━\u001b[0m\u001b[37m━\u001b[0m \u001b[1m0s\u001b[0m 81ms/step - loss: 0.8198\n",
      "Epoch 1: val_loss improved from inf to 0.01649, saving model to ./artifacts/model.h5\n"
     ]
    },
    {
     "name": "stderr",
     "output_type": "stream",
     "text": [
      "WARNING:absl:You are saving your model as an HDF5 file via `model.save()` or `keras.saving.save_model(model)`. This file format is considered legacy. We recommend using instead the native Keras format, e.g. `model.save('my_model.keras')` or `keras.saving.save_model(model, 'my_model.keras')`. \n"
     ]
    },
    {
     "name": "stdout",
     "output_type": "stream",
     "text": [
      "\u001b[1m100/100\u001b[0m \u001b[32m━━━━━━━━━━━━━━━━━━━━\u001b[0m\u001b[37m\u001b[0m \u001b[1m11s\u001b[0m 91ms/step - loss: 0.8126 - val_loss: 0.0165\n",
      "Epoch 2/100\n",
      "\u001b[1m 99/100\u001b[0m \u001b[32m━━━━━━━━━━━━━━━━━━━\u001b[0m\u001b[37m━\u001b[0m \u001b[1m0s\u001b[0m 78ms/step - loss: 0.1116\n",
      "Epoch 2: val_loss improved from 0.01649 to -0.02756, saving model to ./artifacts/model.h5\n"
     ]
    },
    {
     "name": "stderr",
     "output_type": "stream",
     "text": [
      "WARNING:absl:You are saving your model as an HDF5 file via `model.save()` or `keras.saving.save_model(model)`. This file format is considered legacy. We recommend using instead the native Keras format, e.g. `model.save('my_model.keras')` or `keras.saving.save_model(model, 'my_model.keras')`. \n"
     ]
    },
    {
     "name": "stdout",
     "output_type": "stream",
     "text": [
      "\u001b[1m100/100\u001b[0m \u001b[32m━━━━━━━━━━━━━━━━━━━━\u001b[0m\u001b[37m\u001b[0m \u001b[1m9s\u001b[0m 85ms/step - loss: 0.1113 - val_loss: -0.0276\n",
      "Epoch 3/100\n",
      "\u001b[1m 99/100\u001b[0m \u001b[32m━━━━━━━━━━━━━━━━━━━\u001b[0m\u001b[37m━\u001b[0m \u001b[1m0s\u001b[0m 78ms/step - loss: 0.0451\n",
      "Epoch 3: val_loss improved from -0.02756 to -0.06083, saving model to ./artifacts/model.h5\n"
     ]
    },
    {
     "name": "stderr",
     "output_type": "stream",
     "text": [
      "WARNING:absl:You are saving your model as an HDF5 file via `model.save()` or `keras.saving.save_model(model)`. This file format is considered legacy. We recommend using instead the native Keras format, e.g. `model.save('my_model.keras')` or `keras.saving.save_model(model, 'my_model.keras')`. \n"
     ]
    },
    {
     "name": "stdout",
     "output_type": "stream",
     "text": [
      "\u001b[1m100/100\u001b[0m \u001b[32m━━━━━━━━━━━━━━━━━━━━\u001b[0m\u001b[37m\u001b[0m \u001b[1m9s\u001b[0m 85ms/step - loss: 0.0449 - val_loss: -0.0608\n",
      "Epoch 4/100\n",
      "\u001b[1m 99/100\u001b[0m \u001b[32m━━━━━━━━━━━━━━━━━━━\u001b[0m\u001b[37m━\u001b[0m \u001b[1m0s\u001b[0m 78ms/step - loss: 0.0398\n",
      "Epoch 4: val_loss improved from -0.06083 to -0.08277, saving model to ./artifacts/model.h5\n"
     ]
    },
    {
     "name": "stderr",
     "output_type": "stream",
     "text": [
      "WARNING:absl:You are saving your model as an HDF5 file via `model.save()` or `keras.saving.save_model(model)`. This file format is considered legacy. We recommend using instead the native Keras format, e.g. `model.save('my_model.keras')` or `keras.saving.save_model(model, 'my_model.keras')`. \n"
     ]
    },
    {
     "name": "stdout",
     "output_type": "stream",
     "text": [
      "\u001b[1m100/100\u001b[0m \u001b[32m━━━━━━━━━━━━━━━━━━━━\u001b[0m\u001b[37m\u001b[0m \u001b[1m9s\u001b[0m 85ms/step - loss: 0.0393 - val_loss: -0.0828\n",
      "Epoch 5/100\n",
      "\u001b[1m 99/100\u001b[0m \u001b[32m━━━━━━━━━━━━━━━━━━━\u001b[0m\u001b[37m━\u001b[0m \u001b[1m0s\u001b[0m 79ms/step - loss: -0.0224\n",
      "Epoch 5: val_loss improved from -0.08277 to -0.08987, saving model to ./artifacts/model.h5\n"
     ]
    },
    {
     "name": "stderr",
     "output_type": "stream",
     "text": [
      "WARNING:absl:You are saving your model as an HDF5 file via `model.save()` or `keras.saving.save_model(model)`. This file format is considered legacy. We recommend using instead the native Keras format, e.g. `model.save('my_model.keras')` or `keras.saving.save_model(model, 'my_model.keras')`. \n"
     ]
    },
    {
     "name": "stdout",
     "output_type": "stream",
     "text": [
      "\u001b[1m100/100\u001b[0m \u001b[32m━━━━━━━━━━━━━━━━━━━━\u001b[0m\u001b[37m\u001b[0m \u001b[1m9s\u001b[0m 86ms/step - loss: -0.0223 - val_loss: -0.0899\n",
      "Epoch 6/100\n",
      "\u001b[1m 99/100\u001b[0m \u001b[32m━━━━━━━━━━━━━━━━━━━\u001b[0m\u001b[37m━\u001b[0m \u001b[1m0s\u001b[0m 78ms/step - loss: -0.0349\n",
      "Epoch 6: val_loss improved from -0.08987 to -0.13136, saving model to ./artifacts/model.h5\n"
     ]
    },
    {
     "name": "stderr",
     "output_type": "stream",
     "text": [
      "WARNING:absl:You are saving your model as an HDF5 file via `model.save()` or `keras.saving.save_model(model)`. This file format is considered legacy. We recommend using instead the native Keras format, e.g. `model.save('my_model.keras')` or `keras.saving.save_model(model, 'my_model.keras')`. \n"
     ]
    },
    {
     "name": "stdout",
     "output_type": "stream",
     "text": [
      "\u001b[1m100/100\u001b[0m \u001b[32m━━━━━━━━━━━━━━━━━━━━\u001b[0m\u001b[37m\u001b[0m \u001b[1m9s\u001b[0m 86ms/step - loss: -0.0349 - val_loss: -0.1314\n",
      "Epoch 7/100\n",
      "\u001b[1m 99/100\u001b[0m \u001b[32m━━━━━━━━━━━━━━━━━━━\u001b[0m\u001b[37m━\u001b[0m \u001b[1m0s\u001b[0m 78ms/step - loss: -0.0507\n",
      "Epoch 7: val_loss improved from -0.13136 to -0.15801, saving model to ./artifacts/model.h5\n"
     ]
    },
    {
     "name": "stderr",
     "output_type": "stream",
     "text": [
      "WARNING:absl:You are saving your model as an HDF5 file via `model.save()` or `keras.saving.save_model(model)`. This file format is considered legacy. We recommend using instead the native Keras format, e.g. `model.save('my_model.keras')` or `keras.saving.save_model(model, 'my_model.keras')`. \n"
     ]
    },
    {
     "name": "stdout",
     "output_type": "stream",
     "text": [
      "\u001b[1m100/100\u001b[0m \u001b[32m━━━━━━━━━━━━━━━━━━━━\u001b[0m\u001b[37m\u001b[0m \u001b[1m9s\u001b[0m 85ms/step - loss: -0.0508 - val_loss: -0.1580\n",
      "Epoch 8/100\n",
      "\u001b[1m 99/100\u001b[0m \u001b[32m━━━━━━━━━━━━━━━━━━━\u001b[0m\u001b[37m━\u001b[0m \u001b[1m0s\u001b[0m 77ms/step - loss: -0.0721\n",
      "Epoch 8: val_loss did not improve from -0.15801\n",
      "\u001b[1m100/100\u001b[0m \u001b[32m━━━━━━━━━━━━━━━━━━━━\u001b[0m\u001b[37m\u001b[0m \u001b[1m9s\u001b[0m 85ms/step - loss: -0.0722 - val_loss: -0.1344\n",
      "Epoch 9/100\n",
      "\u001b[1m 99/100\u001b[0m \u001b[32m━━━━━━━━━━━━━━━━━━━\u001b[0m\u001b[37m━\u001b[0m \u001b[1m0s\u001b[0m 78ms/step - loss: -0.0816\n",
      "Epoch 9: val_loss improved from -0.15801 to -0.17659, saving model to ./artifacts/model.h5\n"
     ]
    },
    {
     "name": "stderr",
     "output_type": "stream",
     "text": [
      "WARNING:absl:You are saving your model as an HDF5 file via `model.save()` or `keras.saving.save_model(model)`. This file format is considered legacy. We recommend using instead the native Keras format, e.g. `model.save('my_model.keras')` or `keras.saving.save_model(model, 'my_model.keras')`. \n"
     ]
    },
    {
     "name": "stdout",
     "output_type": "stream",
     "text": [
      "\u001b[1m100/100\u001b[0m \u001b[32m━━━━━━━━━━━━━━━━━━━━\u001b[0m\u001b[37m\u001b[0m \u001b[1m9s\u001b[0m 86ms/step - loss: -0.0817 - val_loss: -0.1766\n",
      "Epoch 10/100\n",
      "\u001b[1m 99/100\u001b[0m \u001b[32m━━━━━━━━━━━━━━━━━━━\u001b[0m\u001b[37m━\u001b[0m \u001b[1m0s\u001b[0m 78ms/step - loss: -0.0936\n",
      "Epoch 10: val_loss did not improve from -0.17659\n",
      "\u001b[1m100/100\u001b[0m \u001b[32m━━━━━━━━━━━━━━━━━━━━\u001b[0m\u001b[37m\u001b[0m \u001b[1m9s\u001b[0m 85ms/step - loss: -0.0936 - val_loss: -0.1137\n",
      "Epoch 11/100\n",
      "\u001b[1m 99/100\u001b[0m \u001b[32m━━━━━━━━━━━━━━━━━━━\u001b[0m\u001b[37m━\u001b[0m \u001b[1m0s\u001b[0m 78ms/step - loss: -0.1056\n",
      "Epoch 11: val_loss did not improve from -0.17659\n",
      "\u001b[1m100/100\u001b[0m \u001b[32m━━━━━━━━━━━━━━━━━━━━\u001b[0m\u001b[37m\u001b[0m \u001b[1m9s\u001b[0m 85ms/step - loss: -0.1057 - val_loss: -0.1241\n",
      "Epoch 12/100\n",
      "\u001b[1m 99/100\u001b[0m \u001b[32m━━━━━━━━━━━━━━━━━━━\u001b[0m\u001b[37m━\u001b[0m \u001b[1m0s\u001b[0m 78ms/step - loss: -0.1052\n",
      "Epoch 12: val_loss did not improve from -0.17659\n",
      "\u001b[1m100/100\u001b[0m \u001b[32m━━━━━━━━━━━━━━━━━━━━\u001b[0m\u001b[37m\u001b[0m \u001b[1m9s\u001b[0m 85ms/step - loss: -0.1053 - val_loss: -0.1447\n",
      "Epoch 13/100\n",
      "\u001b[1m 99/100\u001b[0m \u001b[32m━━━━━━━━━━━━━━━━━━━\u001b[0m\u001b[37m━\u001b[0m \u001b[1m0s\u001b[0m 77ms/step - loss: -0.1105\n",
      "Epoch 13: val_loss improved from -0.17659 to -0.19247, saving model to ./artifacts/model.h5\n"
     ]
    },
    {
     "name": "stderr",
     "output_type": "stream",
     "text": [
      "WARNING:absl:You are saving your model as an HDF5 file via `model.save()` or `keras.saving.save_model(model)`. This file format is considered legacy. We recommend using instead the native Keras format, e.g. `model.save('my_model.keras')` or `keras.saving.save_model(model, 'my_model.keras')`. \n"
     ]
    },
    {
     "name": "stdout",
     "output_type": "stream",
     "text": [
      "\u001b[1m100/100\u001b[0m \u001b[32m━━━━━━━━━━━━━━━━━━━━\u001b[0m\u001b[37m\u001b[0m \u001b[1m9s\u001b[0m 85ms/step - loss: -0.1105 - val_loss: -0.1925\n",
      "Epoch 14/100\n",
      "\u001b[1m 99/100\u001b[0m \u001b[32m━━━━━━━━━━━━━━━━━━━\u001b[0m\u001b[37m━\u001b[0m \u001b[1m0s\u001b[0m 77ms/step - loss: -0.1242\n",
      "Epoch 14: val_loss did not improve from -0.19247\n",
      "\u001b[1m100/100\u001b[0m \u001b[32m━━━━━━━━━━━━━━━━━━━━\u001b[0m\u001b[37m\u001b[0m \u001b[1m9s\u001b[0m 85ms/step - loss: -0.1243 - val_loss: -0.1495\n",
      "Epoch 15/100\n",
      "\u001b[1m 99/100\u001b[0m \u001b[32m━━━━━━━━━━━━━━━━━━━\u001b[0m\u001b[37m━\u001b[0m \u001b[1m0s\u001b[0m 78ms/step - loss: -0.1350\n",
      "Epoch 15: val_loss did not improve from -0.19247\n",
      "\u001b[1m100/100\u001b[0m \u001b[32m━━━━━━━━━━━━━━━━━━━━\u001b[0m\u001b[37m\u001b[0m \u001b[1m9s\u001b[0m 86ms/step - loss: -0.1350 - val_loss: -0.1465\n",
      "Epoch 16/100\n",
      "\u001b[1m 99/100\u001b[0m \u001b[32m━━━━━━━━━━━━━━━━━━━\u001b[0m\u001b[37m━\u001b[0m \u001b[1m0s\u001b[0m 79ms/step - loss: -0.1331\n",
      "Epoch 16: val_loss improved from -0.19247 to -0.19540, saving model to ./artifacts/model.h5\n"
     ]
    },
    {
     "name": "stderr",
     "output_type": "stream",
     "text": [
      "WARNING:absl:You are saving your model as an HDF5 file via `model.save()` or `keras.saving.save_model(model)`. This file format is considered legacy. We recommend using instead the native Keras format, e.g. `model.save('my_model.keras')` or `keras.saving.save_model(model, 'my_model.keras')`. \n"
     ]
    },
    {
     "name": "stdout",
     "output_type": "stream",
     "text": [
      "\u001b[1m100/100\u001b[0m \u001b[32m━━━━━━━━━━━━━━━━━━━━\u001b[0m\u001b[37m\u001b[0m \u001b[1m9s\u001b[0m 87ms/step - loss: -0.1331 - val_loss: -0.1954\n",
      "Epoch 17/100\n",
      "\u001b[1m 99/100\u001b[0m \u001b[32m━━━━━━━━━━━━━━━━━━━\u001b[0m\u001b[37m━\u001b[0m \u001b[1m0s\u001b[0m 78ms/step - loss: -0.1466\n",
      "Epoch 17: val_loss improved from -0.19540 to -0.21096, saving model to ./artifacts/model.h5\n"
     ]
    },
    {
     "name": "stderr",
     "output_type": "stream",
     "text": [
      "WARNING:absl:You are saving your model as an HDF5 file via `model.save()` or `keras.saving.save_model(model)`. This file format is considered legacy. We recommend using instead the native Keras format, e.g. `model.save('my_model.keras')` or `keras.saving.save_model(model, 'my_model.keras')`. \n"
     ]
    },
    {
     "name": "stdout",
     "output_type": "stream",
     "text": [
      "\u001b[1m100/100\u001b[0m \u001b[32m━━━━━━━━━━━━━━━━━━━━\u001b[0m\u001b[37m\u001b[0m \u001b[1m9s\u001b[0m 86ms/step - loss: -0.1466 - val_loss: -0.2110\n",
      "Epoch 18/100\n",
      "\u001b[1m 99/100\u001b[0m \u001b[32m━━━━━━━━━━━━━━━━━━━\u001b[0m\u001b[37m━\u001b[0m \u001b[1m0s\u001b[0m 78ms/step - loss: -0.1447\n",
      "Epoch 18: val_loss did not improve from -0.21096\n",
      "\u001b[1m100/100\u001b[0m \u001b[32m━━━━━━━━━━━━━━━━━━━━\u001b[0m\u001b[37m\u001b[0m \u001b[1m9s\u001b[0m 86ms/step - loss: -0.1448 - val_loss: -0.1896\n",
      "Epoch 19/100\n",
      "\u001b[1m 99/100\u001b[0m \u001b[32m━━━━━━━━━━━━━━━━━━━\u001b[0m\u001b[37m━\u001b[0m \u001b[1m0s\u001b[0m 78ms/step - loss: -0.1451\n",
      "Epoch 19: val_loss did not improve from -0.21096\n",
      "\u001b[1m100/100\u001b[0m \u001b[32m━━━━━━━━━━━━━━━━━━━━\u001b[0m\u001b[37m\u001b[0m \u001b[1m9s\u001b[0m 85ms/step - loss: -0.1452 - val_loss: -0.1932\n",
      "Epoch 20/100\n",
      "\u001b[1m 99/100\u001b[0m \u001b[32m━━━━━━━━━━━━━━━━━━━\u001b[0m\u001b[37m━\u001b[0m \u001b[1m0s\u001b[0m 77ms/step - loss: -0.1614\n",
      "Epoch 20: val_loss did not improve from -0.21096\n",
      "\u001b[1m100/100\u001b[0m \u001b[32m━━━━━━━━━━━━━━━━━━━━\u001b[0m\u001b[37m\u001b[0m \u001b[1m9s\u001b[0m 85ms/step - loss: -0.1614 - val_loss: -0.2054\n",
      "Epoch 21/100\n",
      "\u001b[1m 99/100\u001b[0m \u001b[32m━━━━━━━━━━━━━━━━━━━\u001b[0m\u001b[37m━\u001b[0m \u001b[1m0s\u001b[0m 78ms/step - loss: -0.1605\n",
      "Epoch 21: val_loss improved from -0.21096 to -0.21837, saving model to ./artifacts/model.h5\n"
     ]
    },
    {
     "name": "stderr",
     "output_type": "stream",
     "text": [
      "WARNING:absl:You are saving your model as an HDF5 file via `model.save()` or `keras.saving.save_model(model)`. This file format is considered legacy. We recommend using instead the native Keras format, e.g. `model.save('my_model.keras')` or `keras.saving.save_model(model, 'my_model.keras')`. \n"
     ]
    },
    {
     "name": "stdout",
     "output_type": "stream",
     "text": [
      "\u001b[1m100/100\u001b[0m \u001b[32m━━━━━━━━━━━━━━━━━━━━\u001b[0m\u001b[37m\u001b[0m \u001b[1m9s\u001b[0m 86ms/step - loss: -0.1605 - val_loss: -0.2184\n",
      "Epoch 22/100\n",
      "\u001b[1m 99/100\u001b[0m \u001b[32m━━━━━━━━━━━━━━━━━━━\u001b[0m\u001b[37m━\u001b[0m \u001b[1m0s\u001b[0m 77ms/step - loss: -0.1655\n",
      "Epoch 22: val_loss did not improve from -0.21837\n",
      "\u001b[1m100/100\u001b[0m \u001b[32m━━━━━━━━━━━━━━━━━━━━\u001b[0m\u001b[37m\u001b[0m \u001b[1m9s\u001b[0m 85ms/step - loss: -0.1655 - val_loss: -0.2120\n",
      "Epoch 23/100\n",
      "\u001b[1m 99/100\u001b[0m \u001b[32m━━━━━━━━━━━━━━━━━━━\u001b[0m\u001b[37m━\u001b[0m \u001b[1m0s\u001b[0m 78ms/step - loss: -0.1816\n",
      "Epoch 23: val_loss did not improve from -0.21837\n",
      "\u001b[1m100/100\u001b[0m \u001b[32m━━━━━━━━━━━━━━━━━━━━\u001b[0m\u001b[37m\u001b[0m \u001b[1m9s\u001b[0m 86ms/step - loss: -0.1814 - val_loss: -0.2054\n",
      "Epoch 24/100\n",
      "\u001b[1m 99/100\u001b[0m \u001b[32m━━━━━━━━━━━━━━━━━━━\u001b[0m\u001b[37m━\u001b[0m \u001b[1m0s\u001b[0m 78ms/step - loss: -0.1751\n",
      "Epoch 24: val_loss did not improve from -0.21837\n",
      "\u001b[1m100/100\u001b[0m \u001b[32m━━━━━━━━━━━━━━━━━━━━\u001b[0m\u001b[37m\u001b[0m \u001b[1m9s\u001b[0m 86ms/step - loss: -0.1751 - val_loss: -0.1867\n",
      "Epoch 25/100\n",
      "\u001b[1m 99/100\u001b[0m \u001b[32m━━━━━━━━━━━━━━━━━━━\u001b[0m\u001b[37m━\u001b[0m \u001b[1m0s\u001b[0m 78ms/step - loss: -0.1704\n",
      "Epoch 25: val_loss did not improve from -0.21837\n",
      "\u001b[1m100/100\u001b[0m \u001b[32m━━━━━━━━━━━━━━━━━━━━\u001b[0m\u001b[37m\u001b[0m \u001b[1m9s\u001b[0m 86ms/step - loss: -0.1705 - val_loss: -0.2087\n",
      "Epoch 26/100\n",
      "\u001b[1m 99/100\u001b[0m \u001b[32m━━━━━━━━━━━━━━━━━━━\u001b[0m\u001b[37m━\u001b[0m \u001b[1m0s\u001b[0m 77ms/step - loss: -0.1782\n",
      "Epoch 26: val_loss did not improve from -0.21837\n",
      "\u001b[1m100/100\u001b[0m \u001b[32m━━━━━━━━━━━━━━━━━━━━\u001b[0m\u001b[37m\u001b[0m \u001b[1m9s\u001b[0m 85ms/step - loss: -0.1783 - val_loss: -0.2045\n",
      "Epoch 27/100\n",
      "\u001b[1m 99/100\u001b[0m \u001b[32m━━━━━━━━━━━━━━━━━━━\u001b[0m\u001b[37m━\u001b[0m \u001b[1m0s\u001b[0m 78ms/step - loss: -0.1781\n",
      "Epoch 27: val_loss improved from -0.21837 to -0.22414, saving model to ./artifacts/model.h5\n"
     ]
    },
    {
     "name": "stderr",
     "output_type": "stream",
     "text": [
      "WARNING:absl:You are saving your model as an HDF5 file via `model.save()` or `keras.saving.save_model(model)`. This file format is considered legacy. We recommend using instead the native Keras format, e.g. `model.save('my_model.keras')` or `keras.saving.save_model(model, 'my_model.keras')`. \n"
     ]
    },
    {
     "name": "stdout",
     "output_type": "stream",
     "text": [
      "\u001b[1m100/100\u001b[0m \u001b[32m━━━━━━━━━━━━━━━━━━━━\u001b[0m\u001b[37m\u001b[0m \u001b[1m9s\u001b[0m 85ms/step - loss: -0.1783 - val_loss: -0.2241\n",
      "Epoch 28/100\n",
      "\u001b[1m 99/100\u001b[0m \u001b[32m━━━━━━━━━━━━━━━━━━━\u001b[0m\u001b[37m━\u001b[0m \u001b[1m0s\u001b[0m 78ms/step - loss: -0.1848\n",
      "Epoch 28: val_loss did not improve from -0.22414\n",
      "\u001b[1m100/100\u001b[0m \u001b[32m━━━━━━━━━━━━━━━━━━━━\u001b[0m\u001b[37m\u001b[0m \u001b[1m9s\u001b[0m 86ms/step - loss: -0.1848 - val_loss: -0.2135\n",
      "Epoch 29/100\n",
      "\u001b[1m 99/100\u001b[0m \u001b[32m━━━━━━━━━━━━━━━━━━━\u001b[0m\u001b[37m━\u001b[0m \u001b[1m0s\u001b[0m 81ms/step - loss: -0.1953\n",
      "Epoch 29: val_loss improved from -0.22414 to -0.22746, saving model to ./artifacts/model.h5\n"
     ]
    },
    {
     "name": "stderr",
     "output_type": "stream",
     "text": [
      "WARNING:absl:You are saving your model as an HDF5 file via `model.save()` or `keras.saving.save_model(model)`. This file format is considered legacy. We recommend using instead the native Keras format, e.g. `model.save('my_model.keras')` or `keras.saving.save_model(model, 'my_model.keras')`. \n"
     ]
    },
    {
     "name": "stdout",
     "output_type": "stream",
     "text": [
      "\u001b[1m100/100\u001b[0m \u001b[32m━━━━━━━━━━━━━━━━━━━━\u001b[0m\u001b[37m\u001b[0m \u001b[1m9s\u001b[0m 88ms/step - loss: -0.1952 - val_loss: -0.2275\n",
      "Epoch 30/100\n",
      "\u001b[1m 99/100\u001b[0m \u001b[32m━━━━━━━━━━━━━━━━━━━\u001b[0m\u001b[37m━\u001b[0m \u001b[1m0s\u001b[0m 78ms/step - loss: -0.1993\n",
      "Epoch 30: val_loss did not improve from -0.22746\n",
      "\u001b[1m100/100\u001b[0m \u001b[32m━━━━━━━━━━━━━━━━━━━━\u001b[0m\u001b[37m\u001b[0m \u001b[1m9s\u001b[0m 86ms/step - loss: -0.1992 - val_loss: -0.2265\n",
      "Epoch 31/100\n",
      "\u001b[1m 99/100\u001b[0m \u001b[32m━━━━━━━━━━━━━━━━━━━\u001b[0m\u001b[37m━\u001b[0m \u001b[1m0s\u001b[0m 78ms/step - loss: -0.1948\n",
      "Epoch 31: val_loss improved from -0.22746 to -0.23702, saving model to ./artifacts/model.h5\n"
     ]
    },
    {
     "name": "stderr",
     "output_type": "stream",
     "text": [
      "WARNING:absl:You are saving your model as an HDF5 file via `model.save()` or `keras.saving.save_model(model)`. This file format is considered legacy. We recommend using instead the native Keras format, e.g. `model.save('my_model.keras')` or `keras.saving.save_model(model, 'my_model.keras')`. \n"
     ]
    },
    {
     "name": "stdout",
     "output_type": "stream",
     "text": [
      "\u001b[1m100/100\u001b[0m \u001b[32m━━━━━━━━━━━━━━━━━━━━\u001b[0m\u001b[37m\u001b[0m \u001b[1m9s\u001b[0m 86ms/step - loss: -0.1948 - val_loss: -0.2370\n",
      "Epoch 32/100\n",
      "\u001b[1m 99/100\u001b[0m \u001b[32m━━━━━━━━━━━━━━━━━━━\u001b[0m\u001b[37m━\u001b[0m \u001b[1m0s\u001b[0m 77ms/step - loss: -0.1989\n",
      "Epoch 32: val_loss did not improve from -0.23702\n",
      "\u001b[1m100/100\u001b[0m \u001b[32m━━━━━━━━━━━━━━━━━━━━\u001b[0m\u001b[37m\u001b[0m \u001b[1m9s\u001b[0m 85ms/step - loss: -0.1989 - val_loss: -0.2168\n",
      "Epoch 33/100\n",
      "\u001b[1m 99/100\u001b[0m \u001b[32m━━━━━━━━━━━━━━━━━━━\u001b[0m\u001b[37m━\u001b[0m \u001b[1m0s\u001b[0m 78ms/step - loss: -0.2066\n",
      "Epoch 33: val_loss did not improve from -0.23702\n",
      "\u001b[1m100/100\u001b[0m \u001b[32m━━━━━━━━━━━━━━━━━━━━\u001b[0m\u001b[37m\u001b[0m \u001b[1m9s\u001b[0m 85ms/step - loss: -0.2065 - val_loss: -0.2134\n",
      "Epoch 34/100\n",
      "\u001b[1m 99/100\u001b[0m \u001b[32m━━━━━━━━━━━━━━━━━━━\u001b[0m\u001b[37m━\u001b[0m \u001b[1m0s\u001b[0m 78ms/step - loss: -0.2035\n",
      "Epoch 34: val_loss did not improve from -0.23702\n",
      "\u001b[1m100/100\u001b[0m \u001b[32m━━━━━━━━━━━━━━━━━━━━\u001b[0m\u001b[37m\u001b[0m \u001b[1m9s\u001b[0m 86ms/step - loss: -0.2035 - val_loss: -0.2327\n",
      "Epoch 35/100\n",
      "\u001b[1m 99/100\u001b[0m \u001b[32m━━━━━━━━━━━━━━━━━━━\u001b[0m\u001b[37m━\u001b[0m \u001b[1m0s\u001b[0m 77ms/step - loss: -0.2079\n",
      "Epoch 35: val_loss did not improve from -0.23702\n",
      "\u001b[1m100/100\u001b[0m \u001b[32m━━━━━━━━━━━━━━━━━━━━\u001b[0m\u001b[37m\u001b[0m \u001b[1m9s\u001b[0m 85ms/step - loss: -0.2079 - val_loss: -0.2170\n",
      "Epoch 36/100\n",
      "\u001b[1m 99/100\u001b[0m \u001b[32m━━━━━━━━━━━━━━━━━━━\u001b[0m\u001b[37m━\u001b[0m \u001b[1m0s\u001b[0m 78ms/step - loss: -0.2095\n",
      "Epoch 36: val_loss did not improve from -0.23702\n",
      "\u001b[1m100/100\u001b[0m \u001b[32m━━━━━━━━━━━━━━━━━━━━\u001b[0m\u001b[37m\u001b[0m \u001b[1m9s\u001b[0m 86ms/step - loss: -0.2095 - val_loss: -0.2204\n",
      "Epoch 37/100\n",
      "\u001b[1m 99/100\u001b[0m \u001b[32m━━━━━━━━━━━━━━━━━━━\u001b[0m\u001b[37m━\u001b[0m \u001b[1m0s\u001b[0m 78ms/step - loss: -0.2162\n",
      "Epoch 37: val_loss did not improve from -0.23702\n",
      "\u001b[1m100/100\u001b[0m \u001b[32m━━━━━━━━━━━━━━━━━━━━\u001b[0m\u001b[37m\u001b[0m \u001b[1m9s\u001b[0m 85ms/step - loss: -0.2161 - val_loss: -0.2030\n",
      "Epoch 38/100\n",
      "\u001b[1m 99/100\u001b[0m \u001b[32m━━━━━━━━━━━━━━━━━━━\u001b[0m\u001b[37m━\u001b[0m \u001b[1m0s\u001b[0m 78ms/step - loss: -0.2136\n",
      "Epoch 38: val_loss did not improve from -0.23702\n",
      "\u001b[1m100/100\u001b[0m \u001b[32m━━━━━━━━━━━━━━━━━━━━\u001b[0m\u001b[37m\u001b[0m \u001b[1m9s\u001b[0m 85ms/step - loss: -0.2137 - val_loss: -0.2318\n",
      "Epoch 39/100\n",
      "\u001b[1m 99/100\u001b[0m \u001b[32m━━━━━━━━━━━━━━━━━━━\u001b[0m\u001b[37m━\u001b[0m \u001b[1m0s\u001b[0m 78ms/step - loss: -0.2169\n",
      "Epoch 39: val_loss did not improve from -0.23702\n",
      "\u001b[1m100/100\u001b[0m \u001b[32m━━━━━━━━━━━━━━━━━━━━\u001b[0m\u001b[37m\u001b[0m \u001b[1m9s\u001b[0m 86ms/step - loss: -0.2168 - val_loss: -0.2336\n",
      "Epoch 40/100\n",
      "\u001b[1m 99/100\u001b[0m \u001b[32m━━━━━━━━━━━━━━━━━━━\u001b[0m\u001b[37m━\u001b[0m \u001b[1m0s\u001b[0m 78ms/step - loss: -0.2169\n",
      "Epoch 40: val_loss did not improve from -0.23702\n",
      "\u001b[1m100/100\u001b[0m \u001b[32m━━━━━━━━━━━━━━━━━━━━\u001b[0m\u001b[37m\u001b[0m \u001b[1m9s\u001b[0m 86ms/step - loss: -0.2170 - val_loss: -0.2355\n",
      "Epoch 41/100\n",
      "\u001b[1m 99/100\u001b[0m \u001b[32m━━━━━━━━━━━━━━━━━━━\u001b[0m\u001b[37m━\u001b[0m \u001b[1m0s\u001b[0m 80ms/step - loss: -0.2252\n",
      "Epoch 41: val_loss improved from -0.23702 to -0.23883, saving model to ./artifacts/model.h5\n"
     ]
    },
    {
     "name": "stderr",
     "output_type": "stream",
     "text": [
      "WARNING:absl:You are saving your model as an HDF5 file via `model.save()` or `keras.saving.save_model(model)`. This file format is considered legacy. We recommend using instead the native Keras format, e.g. `model.save('my_model.keras')` or `keras.saving.save_model(model, 'my_model.keras')`. \n"
     ]
    },
    {
     "name": "stdout",
     "output_type": "stream",
     "text": [
      "\u001b[1m100/100\u001b[0m \u001b[32m━━━━━━━━━━━━━━━━━━━━\u001b[0m\u001b[37m\u001b[0m \u001b[1m9s\u001b[0m 88ms/step - loss: -0.2251 - val_loss: -0.2388\n",
      "Epoch 42/100\n",
      "\u001b[1m 99/100\u001b[0m \u001b[32m━━━━━━━━━━━━━━━━━━━\u001b[0m\u001b[37m━\u001b[0m \u001b[1m0s\u001b[0m 78ms/step - loss: -0.2207\n",
      "Epoch 42: val_loss improved from -0.23883 to -0.24310, saving model to ./artifacts/model.h5\n"
     ]
    },
    {
     "name": "stderr",
     "output_type": "stream",
     "text": [
      "WARNING:absl:You are saving your model as an HDF5 file via `model.save()` or `keras.saving.save_model(model)`. This file format is considered legacy. We recommend using instead the native Keras format, e.g. `model.save('my_model.keras')` or `keras.saving.save_model(model, 'my_model.keras')`. \n"
     ]
    },
    {
     "name": "stdout",
     "output_type": "stream",
     "text": [
      "\u001b[1m100/100\u001b[0m \u001b[32m━━━━━━━━━━━━━━━━━━━━\u001b[0m\u001b[37m\u001b[0m \u001b[1m9s\u001b[0m 86ms/step - loss: -0.2207 - val_loss: -0.2431\n",
      "Epoch 43/100\n",
      "\u001b[1m 99/100\u001b[0m \u001b[32m━━━━━━━━━━━━━━━━━━━\u001b[0m\u001b[37m━\u001b[0m \u001b[1m0s\u001b[0m 78ms/step - loss: -0.2221\n",
      "Epoch 43: val_loss did not improve from -0.24310\n",
      "\u001b[1m100/100\u001b[0m \u001b[32m━━━━━━━━━━━━━━━━━━━━\u001b[0m\u001b[37m\u001b[0m \u001b[1m9s\u001b[0m 85ms/step - loss: -0.2221 - val_loss: -0.2382\n",
      "Epoch 44/100\n",
      "\u001b[1m 99/100\u001b[0m \u001b[32m━━━━━━━━━━━━━━━━━━━\u001b[0m\u001b[37m━\u001b[0m \u001b[1m0s\u001b[0m 78ms/step - loss: -0.2211\n",
      "Epoch 44: val_loss did not improve from -0.24310\n",
      "\u001b[1m100/100\u001b[0m \u001b[32m━━━━━━━━━━━━━━━━━━━━\u001b[0m\u001b[37m\u001b[0m \u001b[1m9s\u001b[0m 86ms/step - loss: -0.2212 - val_loss: -0.2312\n",
      "Epoch 45/100\n",
      "\u001b[1m 99/100\u001b[0m \u001b[32m━━━━━━━━━━━━━━━━━━━\u001b[0m\u001b[37m━\u001b[0m \u001b[1m0s\u001b[0m 78ms/step - loss: -0.2236\n",
      "Epoch 45: val_loss did not improve from -0.24310\n",
      "\u001b[1m100/100\u001b[0m \u001b[32m━━━━━━━━━━━━━━━━━━━━\u001b[0m\u001b[37m\u001b[0m \u001b[1m9s\u001b[0m 85ms/step - loss: -0.2237 - val_loss: -0.2307\n",
      "Epoch 46/100\n",
      "\u001b[1m 99/100\u001b[0m \u001b[32m━━━━━━━━━━━━━━━━━━━\u001b[0m\u001b[37m━\u001b[0m \u001b[1m0s\u001b[0m 78ms/step - loss: -0.2317\n",
      "Epoch 46: val_loss improved from -0.24310 to -0.24693, saving model to ./artifacts/model.h5\n"
     ]
    },
    {
     "name": "stderr",
     "output_type": "stream",
     "text": [
      "WARNING:absl:You are saving your model as an HDF5 file via `model.save()` or `keras.saving.save_model(model)`. This file format is considered legacy. We recommend using instead the native Keras format, e.g. `model.save('my_model.keras')` or `keras.saving.save_model(model, 'my_model.keras')`. \n"
     ]
    },
    {
     "name": "stdout",
     "output_type": "stream",
     "text": [
      "\u001b[1m100/100\u001b[0m \u001b[32m━━━━━━━━━━━━━━━━━━━━\u001b[0m\u001b[37m\u001b[0m \u001b[1m9s\u001b[0m 86ms/step - loss: -0.2317 - val_loss: -0.2469\n",
      "Epoch 47/100\n",
      "\u001b[1m 99/100\u001b[0m \u001b[32m━━━━━━━━━━━━━━━━━━━\u001b[0m\u001b[37m━\u001b[0m \u001b[1m0s\u001b[0m 78ms/step - loss: -0.2347\n",
      "Epoch 47: val_loss did not improve from -0.24693\n",
      "\u001b[1m100/100\u001b[0m \u001b[32m━━━━━━━━━━━━━━━━━━━━\u001b[0m\u001b[37m\u001b[0m \u001b[1m9s\u001b[0m 85ms/step - loss: -0.2346 - val_loss: -0.2236\n",
      "Epoch 48/100\n",
      "\u001b[1m 99/100\u001b[0m \u001b[32m━━━━━━━━━━━━━━━━━━━\u001b[0m\u001b[37m━\u001b[0m \u001b[1m0s\u001b[0m 78ms/step - loss: -0.2360\n",
      "Epoch 48: val_loss did not improve from -0.24693\n",
      "\u001b[1m100/100\u001b[0m \u001b[32m━━━━━━━━━━━━━━━━━━━━\u001b[0m\u001b[37m\u001b[0m \u001b[1m9s\u001b[0m 85ms/step - loss: -0.2361 - val_loss: -0.2280\n",
      "Epoch 49/100\n",
      "\u001b[1m 99/100\u001b[0m \u001b[32m━━━━━━━━━━━━━━━━━━━\u001b[0m\u001b[37m━\u001b[0m \u001b[1m0s\u001b[0m 78ms/step - loss: -0.2260\n",
      "Epoch 49: val_loss did not improve from -0.24693\n",
      "\u001b[1m100/100\u001b[0m \u001b[32m━━━━━━━━━━━━━━━━━━━━\u001b[0m\u001b[37m\u001b[0m \u001b[1m9s\u001b[0m 85ms/step - loss: -0.2261 - val_loss: -0.2387\n",
      "Epoch 50/100\n",
      "\u001b[1m 99/100\u001b[0m \u001b[32m━━━━━━━━━━━━━━━━━━━\u001b[0m\u001b[37m━\u001b[0m \u001b[1m0s\u001b[0m 78ms/step - loss: -0.2434\n",
      "Epoch 50: val_loss did not improve from -0.24693\n",
      "\u001b[1m100/100\u001b[0m \u001b[32m━━━━━━━━━━━━━━━━━━━━\u001b[0m\u001b[37m\u001b[0m \u001b[1m9s\u001b[0m 85ms/step - loss: -0.2433 - val_loss: -0.2449\n",
      "Epoch 51/100\n",
      "\u001b[1m 99/100\u001b[0m \u001b[32m━━━━━━━━━━━━━━━━━━━\u001b[0m\u001b[37m━\u001b[0m \u001b[1m0s\u001b[0m 79ms/step - loss: -0.2358\n",
      "Epoch 51: val_loss improved from -0.24693 to -0.25067, saving model to ./artifacts/model.h5\n"
     ]
    },
    {
     "name": "stderr",
     "output_type": "stream",
     "text": [
      "WARNING:absl:You are saving your model as an HDF5 file via `model.save()` or `keras.saving.save_model(model)`. This file format is considered legacy. We recommend using instead the native Keras format, e.g. `model.save('my_model.keras')` or `keras.saving.save_model(model, 'my_model.keras')`. \n"
     ]
    },
    {
     "name": "stdout",
     "output_type": "stream",
     "text": [
      "\u001b[1m100/100\u001b[0m \u001b[32m━━━━━━━━━━━━━━━━━━━━\u001b[0m\u001b[37m\u001b[0m \u001b[1m9s\u001b[0m 87ms/step - loss: -0.2359 - val_loss: -0.2507\n",
      "Epoch 52/100\n",
      "\u001b[1m 99/100\u001b[0m \u001b[32m━━━━━━━━━━━━━━━━━━━\u001b[0m\u001b[37m━\u001b[0m \u001b[1m0s\u001b[0m 79ms/step - loss: -0.2439\n",
      "Epoch 52: val_loss did not improve from -0.25067\n",
      "\u001b[1m100/100\u001b[0m \u001b[32m━━━━━━━━━━━━━━━━━━━━\u001b[0m\u001b[37m\u001b[0m \u001b[1m9s\u001b[0m 86ms/step - loss: -0.2439 - val_loss: -0.2481\n",
      "Epoch 53/100\n",
      "\u001b[1m 99/100\u001b[0m \u001b[32m━━━━━━━━━━━━━━━━━━━\u001b[0m\u001b[37m━\u001b[0m \u001b[1m0s\u001b[0m 79ms/step - loss: -0.2435\n",
      "Epoch 53: val_loss improved from -0.25067 to -0.25080, saving model to ./artifacts/model.h5\n"
     ]
    },
    {
     "name": "stderr",
     "output_type": "stream",
     "text": [
      "WARNING:absl:You are saving your model as an HDF5 file via `model.save()` or `keras.saving.save_model(model)`. This file format is considered legacy. We recommend using instead the native Keras format, e.g. `model.save('my_model.keras')` or `keras.saving.save_model(model, 'my_model.keras')`. \n"
     ]
    },
    {
     "name": "stdout",
     "output_type": "stream",
     "text": [
      "\u001b[1m100/100\u001b[0m \u001b[32m━━━━━━━━━━━━━━━━━━━━\u001b[0m\u001b[37m\u001b[0m \u001b[1m9s\u001b[0m 88ms/step - loss: -0.2435 - val_loss: -0.2508\n",
      "Epoch 54/100\n",
      "\u001b[1m 99/100\u001b[0m \u001b[32m━━━━━━━━━━━━━━━━━━━\u001b[0m\u001b[37m━\u001b[0m \u001b[1m0s\u001b[0m 81ms/step - loss: -0.2312\n",
      "Epoch 54: val_loss did not improve from -0.25080\n",
      "\u001b[1m100/100\u001b[0m \u001b[32m━━━━━━━━━━━━━━━━━━━━\u001b[0m\u001b[37m\u001b[0m \u001b[1m9s\u001b[0m 88ms/step - loss: -0.2314 - val_loss: -0.2360\n",
      "Epoch 55/100\n",
      "\u001b[1m 99/100\u001b[0m \u001b[32m━━━━━━━━━━━━━━━━━━━\u001b[0m\u001b[37m━\u001b[0m \u001b[1m0s\u001b[0m 79ms/step - loss: -0.2372\n",
      "Epoch 55: val_loss did not improve from -0.25080\n",
      "\u001b[1m100/100\u001b[0m \u001b[32m━━━━━━━━━━━━━━━━━━━━\u001b[0m\u001b[37m\u001b[0m \u001b[1m9s\u001b[0m 86ms/step - loss: -0.2373 - val_loss: -0.2459\n",
      "Epoch 56/100\n",
      "\u001b[1m 99/100\u001b[0m \u001b[32m━━━━━━━━━━━━━━━━━━━\u001b[0m\u001b[37m━\u001b[0m \u001b[1m0s\u001b[0m 78ms/step - loss: -0.2541\n",
      "Epoch 56: val_loss did not improve from -0.25080\n",
      "\u001b[1m100/100\u001b[0m \u001b[32m━━━━━━━━━━━━━━━━━━━━\u001b[0m\u001b[37m\u001b[0m \u001b[1m9s\u001b[0m 86ms/step - loss: -0.2540 - val_loss: -0.2429\n",
      "Epoch 57/100\n",
      "\u001b[1m 99/100\u001b[0m \u001b[32m━━━━━━━━━━━━━━━━━━━\u001b[0m\u001b[37m━\u001b[0m \u001b[1m0s\u001b[0m 82ms/step - loss: -0.2494\n",
      "Epoch 57: val_loss did not improve from -0.25080\n",
      "\u001b[1m100/100\u001b[0m \u001b[32m━━━━━━━━━━━━━━━━━━━━\u001b[0m\u001b[37m\u001b[0m \u001b[1m9s\u001b[0m 90ms/step - loss: -0.2493 - val_loss: -0.2435\n",
      "Epoch 58/100\n",
      "\u001b[1m 99/100\u001b[0m \u001b[32m━━━━━━━━━━━━━━━━━━━\u001b[0m\u001b[37m━\u001b[0m \u001b[1m0s\u001b[0m 82ms/step - loss: -0.2522\n",
      "Epoch 58: val_loss did not improve from -0.25080\n",
      "\u001b[1m100/100\u001b[0m \u001b[32m━━━━━━━━━━━━━━━━━━━━\u001b[0m\u001b[37m\u001b[0m \u001b[1m9s\u001b[0m 90ms/step - loss: -0.2521 - val_loss: -0.2464\n",
      "Epoch 59/100\n",
      "\u001b[1m 99/100\u001b[0m \u001b[32m━━━━━━━━━━━━━━━━━━━\u001b[0m\u001b[37m━\u001b[0m \u001b[1m0s\u001b[0m 84ms/step - loss: -0.2498\n",
      "Epoch 59: val_loss did not improve from -0.25080\n",
      "\u001b[1m100/100\u001b[0m \u001b[32m━━━━━━━━━━━━━━━━━━━━\u001b[0m\u001b[37m\u001b[0m \u001b[1m9s\u001b[0m 93ms/step - loss: -0.2498 - val_loss: -0.2287\n",
      "Epoch 60/100\n",
      "\u001b[1m 99/100\u001b[0m \u001b[32m━━━━━━━━━━━━━━━━━━━\u001b[0m\u001b[37m━\u001b[0m \u001b[1m0s\u001b[0m 81ms/step - loss: -0.2506\n",
      "Epoch 60: val_loss did not improve from -0.25080\n",
      "\u001b[1m100/100\u001b[0m \u001b[32m━━━━━━━━━━━━━━━━━━━━\u001b[0m\u001b[37m\u001b[0m \u001b[1m9s\u001b[0m 89ms/step - loss: -0.2506 - val_loss: -0.2456\n",
      "Epoch 61/100\n",
      "\u001b[1m 99/100\u001b[0m \u001b[32m━━━━━━━━━━━━━━━━━━━\u001b[0m\u001b[37m━\u001b[0m \u001b[1m0s\u001b[0m 79ms/step - loss: -0.2561\n",
      "Epoch 61: val_loss did not improve from -0.25080\n",
      "\u001b[1m100/100\u001b[0m \u001b[32m━━━━━━━━━━━━━━━━━━━━\u001b[0m\u001b[37m\u001b[0m \u001b[1m9s\u001b[0m 87ms/step - loss: -0.2560 - val_loss: -0.2430\n",
      "Epoch 62/100\n",
      "\u001b[1m 99/100\u001b[0m \u001b[32m━━━━━━━━━━━━━━━━━━━\u001b[0m\u001b[37m━\u001b[0m \u001b[1m0s\u001b[0m 80ms/step - loss: -0.2521\n",
      "Epoch 62: val_loss did not improve from -0.25080\n",
      "\u001b[1m100/100\u001b[0m \u001b[32m━━━━━━━━━━━━━━━━━━━━\u001b[0m\u001b[37m\u001b[0m \u001b[1m9s\u001b[0m 88ms/step - loss: -0.2521 - val_loss: -0.2182\n",
      "Epoch 63/100\n",
      "\u001b[1m 99/100\u001b[0m \u001b[32m━━━━━━━━━━━━━━━━━━━\u001b[0m\u001b[37m━\u001b[0m \u001b[1m0s\u001b[0m 79ms/step - loss: -0.2496\n",
      "Epoch 63: val_loss improved from -0.25080 to -0.25096, saving model to ./artifacts/model.h5\n"
     ]
    },
    {
     "name": "stderr",
     "output_type": "stream",
     "text": [
      "WARNING:absl:You are saving your model as an HDF5 file via `model.save()` or `keras.saving.save_model(model)`. This file format is considered legacy. We recommend using instead the native Keras format, e.g. `model.save('my_model.keras')` or `keras.saving.save_model(model, 'my_model.keras')`. \n"
     ]
    },
    {
     "name": "stdout",
     "output_type": "stream",
     "text": [
      "\u001b[1m100/100\u001b[0m \u001b[32m━━━━━━━━━━━━━━━━━━━━\u001b[0m\u001b[37m\u001b[0m \u001b[1m9s\u001b[0m 87ms/step - loss: -0.2497 - val_loss: -0.2510\n",
      "Epoch 64/100\n",
      "\u001b[1m 99/100\u001b[0m \u001b[32m━━━━━━━━━━━━━━━━━━━\u001b[0m\u001b[37m━\u001b[0m \u001b[1m0s\u001b[0m 79ms/step - loss: -0.2472\n",
      "Epoch 64: val_loss improved from -0.25096 to -0.25273, saving model to ./artifacts/model.h5\n"
     ]
    },
    {
     "name": "stderr",
     "output_type": "stream",
     "text": [
      "WARNING:absl:You are saving your model as an HDF5 file via `model.save()` or `keras.saving.save_model(model)`. This file format is considered legacy. We recommend using instead the native Keras format, e.g. `model.save('my_model.keras')` or `keras.saving.save_model(model, 'my_model.keras')`. \n"
     ]
    },
    {
     "name": "stdout",
     "output_type": "stream",
     "text": [
      "\u001b[1m100/100\u001b[0m \u001b[32m━━━━━━━━━━━━━━━━━━━━\u001b[0m\u001b[37m\u001b[0m \u001b[1m9s\u001b[0m 87ms/step - loss: -0.2473 - val_loss: -0.2527\n",
      "Epoch 65/100\n",
      "\u001b[1m 99/100\u001b[0m \u001b[32m━━━━━━━━━━━━━━━━━━━\u001b[0m\u001b[37m━\u001b[0m \u001b[1m0s\u001b[0m 79ms/step - loss: -0.2600\n",
      "Epoch 65: val_loss did not improve from -0.25273\n",
      "\u001b[1m100/100\u001b[0m \u001b[32m━━━━━━━━━━━━━━━━━━━━\u001b[0m\u001b[37m\u001b[0m \u001b[1m9s\u001b[0m 87ms/step - loss: -0.2599 - val_loss: -0.2451\n",
      "Epoch 66/100\n",
      "\u001b[1m 99/100\u001b[0m \u001b[32m━━━━━━━━━━━━━━━━━━━\u001b[0m\u001b[37m━\u001b[0m \u001b[1m0s\u001b[0m 80ms/step - loss: -0.2611\n",
      "Epoch 66: val_loss did not improve from -0.25273\n",
      "\u001b[1m100/100\u001b[0m \u001b[32m━━━━━━━━━━━━━━━━━━━━\u001b[0m\u001b[37m\u001b[0m \u001b[1m9s\u001b[0m 87ms/step - loss: -0.2610 - val_loss: -0.2504\n",
      "Epoch 67/100\n",
      "\u001b[1m 99/100\u001b[0m \u001b[32m━━━━━━━━━━━━━━━━━━━\u001b[0m\u001b[37m━\u001b[0m \u001b[1m0s\u001b[0m 81ms/step - loss: -0.2581\n",
      "Epoch 67: val_loss did not improve from -0.25273\n",
      "\u001b[1m100/100\u001b[0m \u001b[32m━━━━━━━━━━━━━━━━━━━━\u001b[0m\u001b[37m\u001b[0m \u001b[1m9s\u001b[0m 88ms/step - loss: -0.2581 - val_loss: -0.2518\n",
      "Epoch 68/100\n",
      "\u001b[1m 99/100\u001b[0m \u001b[32m━━━━━━━━━━━━━━━━━━━\u001b[0m\u001b[37m━\u001b[0m \u001b[1m0s\u001b[0m 79ms/step - loss: -0.2637\n",
      "Epoch 68: val_loss improved from -0.25273 to -0.26228, saving model to ./artifacts/model.h5\n"
     ]
    },
    {
     "name": "stderr",
     "output_type": "stream",
     "text": [
      "WARNING:absl:You are saving your model as an HDF5 file via `model.save()` or `keras.saving.save_model(model)`. This file format is considered legacy. We recommend using instead the native Keras format, e.g. `model.save('my_model.keras')` or `keras.saving.save_model(model, 'my_model.keras')`. \n"
     ]
    },
    {
     "name": "stdout",
     "output_type": "stream",
     "text": [
      "\u001b[1m100/100\u001b[0m \u001b[32m━━━━━━━━━━━━━━━━━━━━\u001b[0m\u001b[37m\u001b[0m \u001b[1m9s\u001b[0m 87ms/step - loss: -0.2636 - val_loss: -0.2623\n",
      "Epoch 69/100\n",
      "\u001b[1m 99/100\u001b[0m \u001b[32m━━━━━━━━━━━━━━━━━━━\u001b[0m\u001b[37m━\u001b[0m \u001b[1m0s\u001b[0m 79ms/step - loss: -0.2588\n",
      "Epoch 69: val_loss did not improve from -0.26228\n",
      "\u001b[1m100/100\u001b[0m \u001b[32m━━━━━━━━━━━━━━━━━━━━\u001b[0m\u001b[37m\u001b[0m \u001b[1m9s\u001b[0m 86ms/step - loss: -0.2588 - val_loss: -0.2527\n",
      "Epoch 70/100\n",
      "\u001b[1m 99/100\u001b[0m \u001b[32m━━━━━━━━━━━━━━━━━━━\u001b[0m\u001b[37m━\u001b[0m \u001b[1m0s\u001b[0m 79ms/step - loss: -0.2601\n",
      "Epoch 70: val_loss did not improve from -0.26228\n",
      "\u001b[1m100/100\u001b[0m \u001b[32m━━━━━━━━━━━━━━━━━━━━\u001b[0m\u001b[37m\u001b[0m \u001b[1m9s\u001b[0m 87ms/step - loss: -0.2601 - val_loss: -0.2506\n",
      "Epoch 71/100\n",
      "\u001b[1m 99/100\u001b[0m \u001b[32m━━━━━━━━━━━━━━━━━━━\u001b[0m\u001b[37m━\u001b[0m \u001b[1m0s\u001b[0m 79ms/step - loss: -0.2675\n",
      "Epoch 71: val_loss did not improve from -0.26228\n",
      "\u001b[1m100/100\u001b[0m \u001b[32m━━━━━━━━━━━━━━━━━━━━\u001b[0m\u001b[37m\u001b[0m \u001b[1m9s\u001b[0m 87ms/step - loss: -0.2674 - val_loss: -0.2549\n",
      "Epoch 72/100\n",
      "\u001b[1m 99/100\u001b[0m \u001b[32m━━━━━━━━━━━━━━━━━━━\u001b[0m\u001b[37m━\u001b[0m \u001b[1m0s\u001b[0m 79ms/step - loss: -0.2698\n",
      "Epoch 72: val_loss did not improve from -0.26228\n",
      "\u001b[1m100/100\u001b[0m \u001b[32m━━━━━━━━━━━━━━━━━━━━\u001b[0m\u001b[37m\u001b[0m \u001b[1m9s\u001b[0m 87ms/step - loss: -0.2697 - val_loss: -0.2493\n",
      "Epoch 73/100\n",
      "\u001b[1m 99/100\u001b[0m \u001b[32m━━━━━━━━━━━━━━━━━━━\u001b[0m\u001b[37m━\u001b[0m \u001b[1m0s\u001b[0m 79ms/step - loss: -0.2607\n",
      "Epoch 73: val_loss did not improve from -0.26228\n",
      "\u001b[1m100/100\u001b[0m \u001b[32m━━━━━━━━━━━━━━━━━━━━\u001b[0m\u001b[37m\u001b[0m \u001b[1m9s\u001b[0m 86ms/step - loss: -0.2607 - val_loss: -0.2545\n",
      "Epoch 74/100\n",
      "\u001b[1m 99/100\u001b[0m \u001b[32m━━━━━━━━━━━━━━━━━━━\u001b[0m\u001b[37m━\u001b[0m \u001b[1m0s\u001b[0m 79ms/step - loss: -0.2681\n",
      "Epoch 74: val_loss did not improve from -0.26228\n",
      "\u001b[1m100/100\u001b[0m \u001b[32m━━━━━━━━━━━━━━━━━━━━\u001b[0m\u001b[37m\u001b[0m \u001b[1m9s\u001b[0m 87ms/step - loss: -0.2681 - val_loss: -0.2487\n",
      "Epoch 75/100\n",
      "\u001b[1m 99/100\u001b[0m \u001b[32m━━━━━━━━━━━━━━━━━━━\u001b[0m\u001b[37m━\u001b[0m \u001b[1m0s\u001b[0m 81ms/step - loss: -0.2686\n",
      "Epoch 75: val_loss did not improve from -0.26228\n",
      "\u001b[1m100/100\u001b[0m \u001b[32m━━━━━━━━━━━━━━━━━━━━\u001b[0m\u001b[37m\u001b[0m \u001b[1m9s\u001b[0m 89ms/step - loss: -0.2686 - val_loss: -0.2508\n",
      "Epoch 76/100\n",
      "\u001b[1m 99/100\u001b[0m \u001b[32m━━━━━━━━━━━━━━━━━━━\u001b[0m\u001b[37m━\u001b[0m \u001b[1m0s\u001b[0m 79ms/step - loss: -0.2599\n",
      "Epoch 76: val_loss did not improve from -0.26228\n",
      "\u001b[1m100/100\u001b[0m \u001b[32m━━━━━━━━━━━━━━━━━━━━\u001b[0m\u001b[37m\u001b[0m \u001b[1m9s\u001b[0m 87ms/step - loss: -0.2599 - val_loss: -0.2481\n",
      "Epoch 77/100\n",
      "\u001b[1m 99/100\u001b[0m \u001b[32m━━━━━━━━━━━━━━━━━━━\u001b[0m\u001b[37m━\u001b[0m \u001b[1m0s\u001b[0m 79ms/step - loss: -0.2711\n",
      "Epoch 77: val_loss did not improve from -0.26228\n",
      "\u001b[1m100/100\u001b[0m \u001b[32m━━━━━━━━━━━━━━━━━━━━\u001b[0m\u001b[37m\u001b[0m \u001b[1m9s\u001b[0m 87ms/step - loss: -0.2710 - val_loss: -0.2372\n",
      "Epoch 78/100\n",
      "\u001b[1m 99/100\u001b[0m \u001b[32m━━━━━━━━━━━━━━━━━━━\u001b[0m\u001b[37m━\u001b[0m \u001b[1m0s\u001b[0m 79ms/step - loss: -0.2702\n",
      "Epoch 78: val_loss did not improve from -0.26228\n",
      "\u001b[1m100/100\u001b[0m \u001b[32m━━━━━━━━━━━━━━━━━━━━\u001b[0m\u001b[37m\u001b[0m \u001b[1m9s\u001b[0m 87ms/step - loss: -0.2701 - val_loss: -0.2466\n",
      "Epoch 79/100\n",
      "\u001b[1m 99/100\u001b[0m \u001b[32m━━━━━━━━━━━━━━━━━━━\u001b[0m\u001b[37m━\u001b[0m \u001b[1m0s\u001b[0m 79ms/step - loss: -0.2641\n",
      "Epoch 79: val_loss did not improve from -0.26228\n",
      "\u001b[1m100/100\u001b[0m \u001b[32m━━━━━━━━━━━━━━━━━━━━\u001b[0m\u001b[37m\u001b[0m \u001b[1m9s\u001b[0m 87ms/step - loss: -0.2641 - val_loss: -0.2494\n",
      "Epoch 80/100\n",
      "\u001b[1m 99/100\u001b[0m \u001b[32m━━━━━━━━━━━━━━━━━━━\u001b[0m\u001b[37m━\u001b[0m \u001b[1m0s\u001b[0m 80ms/step - loss: -0.2768\n",
      "Epoch 80: val_loss did not improve from -0.26228\n",
      "\u001b[1m100/100\u001b[0m \u001b[32m━━━━━━━━━━━━━━━━━━━━\u001b[0m\u001b[37m\u001b[0m \u001b[1m9s\u001b[0m 87ms/step - loss: -0.2766 - val_loss: -0.2523\n",
      "Epoch 81/100\n",
      "\u001b[1m 99/100\u001b[0m \u001b[32m━━━━━━━━━━━━━━━━━━━\u001b[0m\u001b[37m━\u001b[0m \u001b[1m0s\u001b[0m 80ms/step - loss: -0.2632\n",
      "Epoch 81: val_loss did not improve from -0.26228\n",
      "\u001b[1m100/100\u001b[0m \u001b[32m━━━━━━━━━━━━━━━━━━━━\u001b[0m\u001b[37m\u001b[0m \u001b[1m9s\u001b[0m 87ms/step - loss: -0.2633 - val_loss: -0.2512\n",
      "Epoch 82/100\n",
      "\u001b[1m 99/100\u001b[0m \u001b[32m━━━━━━━━━━━━━━━━━━━\u001b[0m\u001b[37m━\u001b[0m \u001b[1m0s\u001b[0m 79ms/step - loss: -0.2681\n",
      "Epoch 82: val_loss did not improve from -0.26228\n",
      "\u001b[1m100/100\u001b[0m \u001b[32m━━━━━━━━━━━━━━━━━━━━\u001b[0m\u001b[37m\u001b[0m \u001b[1m9s\u001b[0m 87ms/step - loss: -0.2682 - val_loss: -0.2449\n",
      "Epoch 83/100\n",
      "\u001b[1m 99/100\u001b[0m \u001b[32m━━━━━━━━━━━━━━━━━━━\u001b[0m\u001b[37m━\u001b[0m \u001b[1m0s\u001b[0m 79ms/step - loss: -0.2810\n",
      "Epoch 83: val_loss did not improve from -0.26228\n",
      "\u001b[1m100/100\u001b[0m \u001b[32m━━━━━━━━━━━━━━━━━━━━\u001b[0m\u001b[37m\u001b[0m \u001b[1m9s\u001b[0m 87ms/step - loss: -0.2808 - val_loss: -0.2482\n",
      "Epoch 84/100\n",
      "\u001b[1m 99/100\u001b[0m \u001b[32m━━━━━━━━━━━━━━━━━━━\u001b[0m\u001b[37m━\u001b[0m \u001b[1m0s\u001b[0m 79ms/step - loss: -0.2692\n",
      "Epoch 84: val_loss did not improve from -0.26228\n",
      "\u001b[1m100/100\u001b[0m \u001b[32m━━━━━━━━━━━━━━━━━━━━\u001b[0m\u001b[37m\u001b[0m \u001b[1m9s\u001b[0m 87ms/step - loss: -0.2693 - val_loss: -0.2509\n",
      "Epoch 85/100\n",
      "\u001b[1m 99/100\u001b[0m \u001b[32m━━━━━━━━━━━━━━━━━━━\u001b[0m\u001b[37m━\u001b[0m \u001b[1m0s\u001b[0m 79ms/step - loss: -0.2672\n",
      "Epoch 85: val_loss did not improve from -0.26228\n",
      "\u001b[1m100/100\u001b[0m \u001b[32m━━━━━━━━━━━━━━━━━━━━\u001b[0m\u001b[37m\u001b[0m \u001b[1m9s\u001b[0m 87ms/step - loss: -0.2673 - val_loss: -0.2494\n",
      "Epoch 86/100\n",
      "\u001b[1m 99/100\u001b[0m \u001b[32m━━━━━━━━━━━━━━━━━━━\u001b[0m\u001b[37m━\u001b[0m \u001b[1m0s\u001b[0m 80ms/step - loss: -0.2782\n",
      "Epoch 86: val_loss did not improve from -0.26228\n",
      "\u001b[1m100/100\u001b[0m \u001b[32m━━━━━━━━━━━━━━━━━━━━\u001b[0m\u001b[37m\u001b[0m \u001b[1m9s\u001b[0m 88ms/step - loss: -0.2782 - val_loss: -0.2506\n",
      "Epoch 87/100\n",
      "\u001b[1m 99/100\u001b[0m \u001b[32m━━━━━━━━━━━━━━━━━━━\u001b[0m\u001b[37m━\u001b[0m \u001b[1m0s\u001b[0m 79ms/step - loss: -0.2744\n",
      "Epoch 87: val_loss did not improve from -0.26228\n",
      "\u001b[1m100/100\u001b[0m \u001b[32m━━━━━━━━━━━━━━━━━━━━\u001b[0m\u001b[37m\u001b[0m \u001b[1m9s\u001b[0m 87ms/step - loss: -0.2744 - val_loss: -0.2542\n",
      "Epoch 88/100\n",
      "\u001b[1m 99/100\u001b[0m \u001b[32m━━━━━━━━━━━━━━━━━━━\u001b[0m\u001b[37m━\u001b[0m \u001b[1m0s\u001b[0m 79ms/step - loss: -0.2745\n",
      "Epoch 88: val_loss did not improve from -0.26228\n",
      "\u001b[1m100/100\u001b[0m \u001b[32m━━━━━━━━━━━━━━━━━━━━\u001b[0m\u001b[37m\u001b[0m \u001b[1m9s\u001b[0m 87ms/step - loss: -0.2745 - val_loss: -0.2533\n"
     ]
    }
   ],
   "source": [
    "# 콜백 설정 수정\n",
    "callbacks = [\n",
    "    tf.keras.callbacks.EarlyStopping(\n",
    "        monitor='val_loss',\n",
    "        patience=patience,\n",
    "        mode='min'\n",
    "    ),\n",
    "    tf.keras.callbacks.TensorBoard(\n",
    "        log_dir=artifacts_path\n",
    "    ),\n",
    "    tf.keras.callbacks.ModelCheckpoint(\n",
    "        filepath=os.path.join(artifacts_path, \"model.h5\"),\n",
    "        monitor='val_loss',  # 검증 손실 모니터링\n",
    "        save_best_only=True,\n",
    "        # save_weights_only=True,\n",
    "        verbose=1,\n",
    "        mode='min'  # 손실값이므로 최소화하는 방향\n",
    "    )\n",
    "]\n",
    "\n",
    "# 모델 훈련 코드 수정\n",
    "history = model.fit(\n",
    "    x_train,\n",
    "    y_train,\n",
    "    validation_data=(x_valid, y_valid),  # 검증 데이터 명시적으로 제공\n",
    "    epochs=epochs,\n",
    "    batch_size=batch_size,\n",
    "    shuffle=shuffle,\n",
    "    callbacks=callbacks,\n",
    "    verbose=1\n",
    ")"
   ]
  },
  {
   "cell_type": "code",
   "execution_count": 12,
   "metadata": {},
   "outputs": [
    {
     "data": {
      "image/png": "[encoded data removed]",
      "text/plain": [
       "<Figure size 1000x600 with 1 Axes>"
      ]
     },
     "metadata": {},
     "output_type": "display_data"
    },
    {
     "name": "stdout",
     "output_type": "stream",
     "text": [
      "모델 평가를 시작합니다...\n",
      "\u001b[1m796/796\u001b[0m \u001b[32m━━━━━━━━━━━━━━━━━━━━\u001b[0m\u001b[37m\u001b[0m \u001b[1m3s\u001b[0m 3ms/step\n",
      "RMSE: 21.479846808526315\n"
     ]
    },
    {
     "data": {
      "image/png": "[encoded data removed]",
      "text/plain": [
       "<Figure size 1200x600 with 1 Axes>"
      ]
     },
     "metadata": {},
     "output_type": "display_data"
    },
    {
     "name": "stdout",
     "output_type": "stream",
     "text": [
      "SEG 시각화 중 오류 발생: seg.csv not found.\n",
      "seg.csv 파일이 현재 디렉토리에 있는지 확인하세요.\n"
     ]
    }
   ],
   "source": [
    "# 훈련 결과 시각화\n",
    "plt.figure(figsize=(10, 6))\n",
    "plt.plot(history.history['loss'], label='Training Loss')\n",
    "plt.plot(history.history['val_loss'], label='Validation Loss')\n",
    "plt.title('Model Training Loss')\n",
    "plt.xlabel('Epoch')\n",
    "plt.ylabel('Loss')\n",
    "plt.legend()\n",
    "plt.savefig(os.path.join(artifacts_path, 'training_loss.png'))\n",
    "plt.show()\n",
    "\n",
    "# 모델 평가\n",
    "print(\"모델 평가를 시작합니다...\")\n",
    "# 베스트 모델 로드\n",
    "model.load_weights(os.path.join(artifacts_path, \"model.h5\"))\n",
    "\n",
    "# 예측 수행\n",
    "y_pred = model.predict(x_valid)\n",
    "y_pred_mean = y_pred[:,1].flatten()/scale  # 예측 평균\n",
    "y_pred_std = y_pred[:,0].flatten()/scale   # 예측 표준편차\n",
    "y_valid_flat = y_valid.flatten()/scale     # 실제값\n",
    "\n",
    "# RMSE 계산\n",
    "rmse = root_mean_squared_error(y_valid_flat, y_pred_mean)\n",
    "print(f\"RMSE: {rmse}\")\n",
    "\n",
    "# 예측 결과 시각화 (첫 8시간)\n",
    "hours = 8\n",
    "to_plot = hours * 12  # 5분 간격으로 8시간 = 96 데이터 포인트\n",
    "ticks_per_hour = 12\n",
    "ticks = [i*ticks_per_hour for i in range(hours+1)]\n",
    "ticks_labels = [str(i) for i in range(hours+1)]\n",
    "\n",
    "# 시각화할 인덱스 범위\n",
    "start_index = 0\n",
    "end_index = min(start_index + to_plot, len(y_valid_flat))\n",
    "\n",
    "# 데이터 준비\n",
    "y_true = y_valid_flat[start_index:end_index]\n",
    "y_mean = y_pred_mean[start_index:end_index]\n",
    "y_std = y_pred_std[start_index:end_index]\n",
    "xs = np.arange(len(y_true))\n",
    "\n",
    "# 예측 결과 플롯\n",
    "plt.figure(figsize=(12, 6))\n",
    "plt.plot(xs, y_true, label='Groundtruth', linestyle='--')\n",
    "plt.plot(xs, y_mean, label='Prediction')\n",
    "plt.fill_between(xs, y_mean-y_std, y_mean+y_std,\n",
    "        alpha=0.5, edgecolor='#CC4F1B', facecolor='#FF9848')\n",
    "plt.xlabel(\"Time [H]\")\n",
    "plt.ylabel(\"Glucose [mg/dl]\")\n",
    "plt.ylim([0, 400])\n",
    "plt.legend(loc='upper right')\n",
    "plt.xticks(ticks, ticks_labels)\n",
    "plt.title('Glucose Prediction Result')\n",
    "plt.savefig(os.path.join(artifacts_path, \"prediction_plot.png\"))\n",
    "plt.show()\n",
    "\n",
    "# 환자별 SEG 시각화 (감시 오류 그리드)\n",
    "try:\n",
    "    seg_score, seg_std = surveillance_error(y_valid_flat, y_pred_mean)\n",
    "    print(f\"SEG 점수: {seg_score} ± {seg_std}\")\n",
    "    \n",
    "    # SEG 그리드 시각화\n",
    "    plt.figure(figsize=(10, 8))\n",
    "    data = np.loadtxt('seg.csv')\n",
    "    \n",
    "    fig, ax = plt.subplots()\n",
    "    ax.set_title('Glucose Prediction Loss(SEG)')\n",
    "    ax.set_xlabel('Actual Glucose [mg/dl]')\n",
    "    ax.set_ylabel('Prediction Glucose [mg/dl]')\n",
    "    cax = ax.imshow(np.transpose(data), origin='lower', interpolation='nearest')\n",
    "    cbar = fig.colorbar(cax, ticks=[0.25, 1.0, 2.0, 3.0, 3.75], orientation='vertical')\n",
    "    cbar.ax.set_yticklabels(['없음', '경미', '중간', '높음', '극단'], rotation=90, va='center')\n",
    "    \n",
    "    plt.scatter(y_true, y_mean, s=25, facecolors='white', edgecolors='black')\n",
    "    plt.savefig(os.path.join(artifacts_path, \"seg_plot.png\"))\n",
    "    plt.show()\n",
    "except Exception as e:\n",
    "    print(f\"SEG 시각화 중 오류 발생: {e}\")\n",
    "    print(\"seg.csv 파일이 현재 디렉토리에 있는지 확인하세요.\")"
   ]
  }
 ],
 "metadata": {
  "kernelspec": {
   "display_name": "Chapter6-JcyiWNwd",
   "language": "python",
   "name": "python3"
  },
  "language_info": {
   "codemirror_mode": {
    "name": "ipython",
    "version": 3
   },
   "file_extension": ".py",
   "mimetype": "text/x-python",
   "name": "python",
   "nbconvert_exporter": "python",
   "pygments_lexer": "ipython3",
   "version": "3.12.8"
  }
 },
 "nbformat": 4,
 "nbformat_minor": 2
}
