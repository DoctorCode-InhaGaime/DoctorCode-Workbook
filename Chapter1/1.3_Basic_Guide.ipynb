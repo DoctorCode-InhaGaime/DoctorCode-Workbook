{
 "cells": [
  {
   "cell_type": "markdown",
   "metadata": {},
   "source": [
    "## **Library 개념**\n",
    "Library, Package, Module 다양한 이름으로 불리는데 이해를 돕기 위해서 Library로 명칭을 통일하겠습니다.\n",
    "\n",
    "Library란, 개발자가 프로그램을 더 쉽고 효율적으로 개발할 수 있도록 도와주는 재사용 가능한 코드 모음입니다. \n",
    "\n",
    "라이브러리는 특정 기능을 수행하는 함수, 클래스, 메서드 등을 포함하고 있어, 개발자는 매번 같은 기능을 처음부터 구현하지 않고 라이브러리를 가져와 사용할 수 있습니다.\n",
    "\n",
    "\n",
    "#### **라이브러리의 주요 특징**\n",
    "- 코드 재사용성: 동일한 기능을 반복해서 작성할 필요 없이 한 번 만들어진 코드를 필요할 때마다 불러와 사용\n",
    "- 효율성: 전문가들이 최적화하여 만든 코드를 활용함으로써 성능 향상\n",
    "- 표준화: 널리 사용되는 라이브러리는 코드의 일관성과 가독성을 높여줌\n",
    "- 유지보수: 라이브러리가 업데이트되면 이를 사용하는 프로그램도 개선된 기능을 활용 가능\n",
    "\n",
    "\n",
    "#### **라이브러리 종류 및 예시**\n",
    "1. 표준 라이브러리: 프로그래밍 언어에 기본으로 포함된 라이브러리\n",
    "- os, sys, datetime, math\n",
    "\n",
    "2. 외부 라이브러리: 별도로 설치하여 사용하는 라이브러리\n",
    "- 데이터 분석: Pandas, Numpy\n",
    "- 그래픽/시각화: Matplotlib, Plotly\n",
    "- 웹 개발: Flask, FastAPI\n",
    "- 머신러닝: scikit-learn, TensorFlow, PyTorch\n",
    "- 영상처리: OpenCV, Monai\n",
    "\n",
    "\n",
    "#### **라이브러리 사용의 장단점**\n",
    "장점:\n",
    "- 개발 시간 단축\n",
    "- 검증된 코드 사용으로 안정성 향상\n",
    "- 커뮤니티 지원을 통한 문제 해결 용이성\n",
    "\n",
    "단점:\n",
    "- 외부 의존성 증가\n",
    "- 라이브러리 업데이트에 따른 호환성 문제 가능성\n",
    "- 불필요한 기능까지 포함하여 프로그램 크기 증가 가능성"
   ]
  },
  {
   "cell_type": "markdown",
   "metadata": {},
   "source": [
    "### 파이썬 라이브러리 활용 방법\n",
    "### 1. 설치하기\n",
    "표준 라이브러리는 별도 설치 없이 사용 가능하지만, 외부 라이브러리는 pip를 통해 설치해야 합니다.\n",
    "\n",
    "간혹 환경변수가 꼬이면 pip3로 설치해야하는 경우도 있으나, 환경변수를 설명하게 되면 너무 많은 정보를 전달해야 하므로\n",
    "- pip 설치가 완료되었음에도 pip install 명령어를 찾지 못한다. ->\n",
    "- pip3 install로 시도해본다. \n",
    "정도로 시도해볼 수 있는 케이스가 있음을 전달드립니다."
   ]
  },
  {
   "cell_type": "code",
   "execution_count": 1,
   "metadata": {},
   "outputs": [
    {
     "name": "stdout",
     "output_type": "stream",
     "text": [
      "Requirement already satisfied: numpy in c:\\users\\lemon\\.virtualenvs\\doctorcode-workbook-nqvxqx5f\\lib\\site-packages (2.2.3)\n",
      "Requirement already satisfied: pandas in c:\\users\\lemon\\.virtualenvs\\doctorcode-workbook-nqvxqx5f\\lib\\site-packages (2.2.3)\n",
      "Requirement already satisfied: numpy>=1.22.4 in c:\\users\\lemon\\.virtualenvs\\doctorcode-workbook-nqvxqx5f\\lib\\site-packages (from pandas) (2.2.3)\n",
      "Requirement already satisfied: python-dateutil>=2.8.2 in c:\\users\\lemon\\.virtualenvs\\doctorcode-workbook-nqvxqx5f\\lib\\site-packages (from pandas) (2.9.0.post0)\n",
      "Requirement already satisfied: pytz>=2020.1 in c:\\users\\lemon\\.virtualenvs\\doctorcode-workbook-nqvxqx5f\\lib\\site-packages (from pandas) (2025.1)\n",
      "Requirement already satisfied: tzdata>=2022.7 in c:\\users\\lemon\\.virtualenvs\\doctorcode-workbook-nqvxqx5f\\lib\\site-packages (from pandas) (2025.1)\n",
      "Requirement already satisfied: six>=1.5 in c:\\users\\lemon\\.virtualenvs\\doctorcode-workbook-nqvxqx5f\\lib\\site-packages (from python-dateutil>=2.8.2->pandas) (1.17.0)\n",
      "Requirement already satisfied: scikit-learn in c:\\users\\lemon\\.virtualenvs\\doctorcode-workbook-nqvxqx5f\\lib\\site-packages (1.6.1)\n",
      "Requirement already satisfied: numpy>=1.19.5 in c:\\users\\lemon\\.virtualenvs\\doctorcode-workbook-nqvxqx5f\\lib\\site-packages (from scikit-learn) (2.2.3)\n",
      "Requirement already satisfied: scipy>=1.6.0 in c:\\users\\lemon\\.virtualenvs\\doctorcode-workbook-nqvxqx5f\\lib\\site-packages (from scikit-learn) (1.15.2)\n",
      "Requirement already satisfied: joblib>=1.2.0 in c:\\users\\lemon\\.virtualenvs\\doctorcode-workbook-nqvxqx5f\\lib\\site-packages (from scikit-learn) (1.4.2)\n",
      "Requirement already satisfied: threadpoolctl>=3.1.0 in c:\\users\\lemon\\.virtualenvs\\doctorcode-workbook-nqvxqx5f\\lib\\site-packages (from scikit-learn) (3.6.0)\n"
     ]
    }
   ],
   "source": [
    "# 외부 라이브러리 설치하기\n",
    "# 일반적으로 cmd (command) 환경에서는 pip install로 설치할 수 있지만, \n",
    "# Jupyter Notebook 환경에서는 '!' 문자를 맨 앞에 넣어 command 명령어로 인식할 수 있도록 합니다.\n",
    "!pip install numpy\n",
    "!pip install pandas\n",
    "!pip install scikit-learn"
   ]
  },
  {
   "cell_type": "markdown",
   "metadata": {},
   "source": [
    "### 2. 불러오기 (Import)\n",
    "모든 라이브러리가 설치가 완료되었으면, import 문법을 통해서 해당 라이브러리를 불러올 수 있습니다. 파이썬에서는 다양한 방식으로 라이브러리를 불러올 수 있어 상황에 맞게 선택할 수 있습니다.\n",
    "\n",
    "불러오는 방식은 크게 세 가지가 있습니다:"
   ]
  },
  {
   "cell_type": "markdown",
   "metadata": {},
   "source": [
    "#### **1. 라이브러리 전체 불러오기:** 라이브러리의 모든 기능을 사용할 수 있지만, 호출 시 항상 라이브러리 이름을 명시해야 합니다."
   ]
  },
  {
   "cell_type": "code",
   "execution_count": 2,
   "metadata": {},
   "outputs": [],
   "source": [
    "import numpy\n",
    "\n",
    "# 사용 예시\n",
    "result = numpy.array([1, 2, 3])"
   ]
  },
  {
   "cell_type": "markdown",
   "metadata": {},
   "source": [
    "#### **2. 별칭(alias) 사용하여 불러오기:** 긴 라이브러리 이름을 짧은 별칭으로 대체하여 코드를 간결하게 만들 수 있습니다. 데이터 과학 분야에서는 관례적으로 많이 사용되는 별칭이 있습니다(numpy는 np, pandas는 pd 등)."
   ]
  },
  {
   "cell_type": "code",
   "execution_count": 3,
   "metadata": {},
   "outputs": [],
   "source": [
    "import numpy as np # as 를 활용하여 별칭 지정\n",
    "import pandas as pd\n",
    "\n",
    "result = np.array([1, 2, 3])"
   ]
  },
  {
   "cell_type": "markdown",
   "metadata": {},
   "source": [
    "#### **3. 특정 함수나 클래스만 불러오기:** 라이브러리에서 자주 사용하는 일부 기능만 선택적으로 가져올 수 있습니다. 이 방법을 사용하면 라이브러리 이름 없이 바로 함수나 클래스를 호출할 수 있어 훨씬 코드가 더 간결해집니다. "
   ]
  },
  {
   "cell_type": "code",
   "execution_count": 4,
   "metadata": {},
   "outputs": [
    {
     "name": "stdout",
     "output_type": "stream",
     "text": [
      "2025-03-16 18:07:49.796388 4.0\n"
     ]
    }
   ],
   "source": [
    "from datetime import datetime\n",
    "from math import sqrt, pi\n",
    "\n",
    "# 사용 예시\n",
    "current_time = datetime.now()\n",
    "root_value = sqrt(16)  # 라이브러리 이름(math) 없이 직접 호출\n",
    "print(current_time, root_value)"
   ]
  },
  {
   "cell_type": "markdown",
   "metadata": {},
   "source": [
    "### 실전 활용"
   ]
  },
  {
   "cell_type": "code",
   "execution_count": 5,
   "metadata": {},
   "outputs": [
    {
     "name": "stdout",
     "output_type": "stream",
     "text": [
      "안녕하세요! 의료 AI의 세계에 오신 것을 환영합니다!\n",
      "아이리스 데이터셋의 처음 5행 출력:\n",
      "   sepal length (cm)  sepal width (cm)  petal length (cm)  petal width (cm)\n",
      "0                5.1               3.5                1.4               0.2\n",
      "1                4.9               3.0                1.4               0.2\n",
      "2                4.7               3.2                1.3               0.2\n",
      "3                4.6               3.1                1.5               0.2\n",
      "4                5.0               3.6                1.4               0.2\n"
     ]
    }
   ],
   "source": [
    "import numpy as np\n",
    "import pandas as pd\n",
    "from sklearn.datasets import load_iris\n",
    "\n",
    "iris = load_iris() # sklearn.dataset 내의 load_iris 함수 실행 및 객체 할당\n",
    "df = pd.DataFrame(iris.data, columns=iris.feature_names)\n",
    "\n",
    "print(\"안녕하세요! 의료 AI의 세계에 오신 것을 환영합니다!\")\n",
    "print(\"아이리스 데이터셋의 처음 5행 출력:\")\n",
    "print(df.head())"
   ]
  }
 ],
 "metadata": {
  "kernelspec": {
   "display_name": "DoctorCode-Workbook-NqvxQx5f",
   "language": "python",
   "name": "python3"
  },
  "language_info": {
   "codemirror_mode": {
    "name": "ipython",
    "version": 3
   },
   "file_extension": ".py",
   "mimetype": "text/x-python",
   "name": "python",
   "nbconvert_exporter": "python",
   "pygments_lexer": "ipython3",
   "version": "3.10.11"
  }
 },
 "nbformat": 4,
 "nbformat_minor": 2
}
