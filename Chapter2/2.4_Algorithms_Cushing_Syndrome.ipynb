{
 "cells": [
  {
   "cell_type": "code",
   "execution_count": null,
   "metadata": {},
   "outputs": [
    {
     "name": "stdout",
     "output_type": "stream",
     "text": [
      "ACTH-dependent Cushing's\n",
      "Equivocal results - Proceed to Inferior Petrosal Sinus Sampling\n"
     ]
    }
   ],
   "source": [
    "def cushing_diagnosis(acth_level, mri_result, crh_test_positive, high_dose_dex_positive, ct_scan_result, adrenal_mass):\n",
    "    # 1단계: ACTH 수치에 따라 Cushing's 유형을 결정\n",
    "    if acth_level > 15:\n",
    "        print(\"ACTH-dependent Cushing's\")\n",
    "        \n",
    "        # 2단계: MRI 결과 확인\n",
    "        if mri_result == \"positive\": # 비교 연산자 사용용\n",
    "            return \"Cushing's disease - Proceed to transsphenoidal pituitary surgery\"\n",
    "        else:\n",
    "            # CRH test 및 High dose DEX test 확인 \n",
    "            if crh_test_positive and high_dose_dex_positive: # 논리 연산자 사용\n",
    "                return \"Cushing's disease - Proceed to transsphenoidal pituitary surgery\"\n",
    "            elif crh_test_positive or high_dose_dex_positive: # 논리 연산자 사용\n",
    "                return \"Equivocal results - Proceed to Inferior Petrosal Sinus Sampling\"\n",
    "            else:\n",
    "                return \"Ectopic ACTH production - Locate and remove ectopic ACTH source\"\n",
    "    elif acth_level < 5:\n",
    "        print(\"ACTH-independent Cushing's\")\n",
    "        \n",
    "        # 3단계: CT 스캔 결과에 따라 부신 질환 평가\n",
    "        if ct_scan_result == \"bilateral\":  # 비교 연산자 사용\n",
    "            return \"Bilateral adrenal hyperplasia - Proceed to bilateral adrenalectomy\"\n",
    "        elif ct_scan_result == \"unilateral\" and adrenal_mass: # 비교 및 논리 연산자 사용\n",
    "            return \"Unilateral adrenal mass - Proceed to unilateral adrenalectomy\"\n",
    "        else:\n",
    "            return \"Adrenal tumor workup needed\"\n",
    "    else:\n",
    "        return \"ACTH level inconclusive, further testing required\"\n",
    "\n",
    "# 예시 입력값\n",
    "acth_level = 20  # pg/mL\n",
    "mri_result = \"negative\"\n",
    "crh_test_positive = True\n",
    "high_dose_dex_positive = False\n",
    "ct_scan_result = \"unilateral\"\n",
    "adrenal_mass = True\n",
    "\n",
    "# Cushing's Syndrome workup 수행\n",
    "result = cushing_diagnosis(acth_level, mri_result, crh_test_positive, high_dose_dex_positive, ct_scan_result, adrenal_mass)\n",
    "print(result)\n"
   ]
  }
 ],
 "metadata": {
  "kernelspec": {
   "display_name": "Chapter2-_YcOpmeC",
   "language": "python",
   "name": "python3"
  },
  "language_info": {
   "codemirror_mode": {
    "name": "ipython",
    "version": 3
   },
   "file_extension": ".py",
   "mimetype": "text/x-python",
   "name": "python",
   "nbconvert_exporter": "python",
   "pygments_lexer": "ipython3",
   "version": "3.12.8"
  }
 },
 "nbformat": 4,
 "nbformat_minor": 2
}
