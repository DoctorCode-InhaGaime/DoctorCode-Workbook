{
 "cells": [
  {
   "cell_type": "markdown",
   "metadata": {},
   "source": [
    "## 조건문\n",
    "\n",
    "조건문은 프로그램이 특정 조건에 따라 다른 코드 블록을 실행할 수 있게 하는 제어 구조입니다. Python에서는 if, elif, else 키워드를 사용하여 조건문을 작성합니다."
   ]
  },
  {
   "cell_type": "markdown",
   "metadata": {},
   "source": [
    "#### if 문\n",
    "\n",
    "if 문은 가장 기본적인 조건문으로, 지정된 조건이 참(True)일 때만 코드 블록을 실행합니다."
   ]
  },
  {
   "cell_type": "code",
   "execution_count": 1,
   "metadata": {},
   "outputs": [
    {
     "name": "stdout",
     "output_type": "stream",
     "text": [
      "x는 5보다 큽니다.\n"
     ]
    }
   ],
   "source": [
    "x = 10\n",
    "if x > 5:\n",
    "    print(\"x는 5보다 큽니다.\")"
   ]
  },
  {
   "cell_type": "markdown",
   "metadata": {},
   "source": [
    "#### elif 문\n",
    "\n",
    "elif(else if의 줄임말)는 이전 조건이 거짓(False)이고 새로운 조건을 검사하고 싶을 때 사용합니다."
   ]
  },
  {
   "cell_type": "code",
   "execution_count": 2,
   "metadata": {},
   "outputs": [],
   "source": [
    "x = 4\n",
    "if x > 5:\n",
    "    print(\"x는 5보다 큽니다.\")\n",
    "elif x == 5:\n",
    "    print(\"x는 5와 같습니다.\")"
   ]
  },
  {
   "cell_type": "markdown",
   "metadata": {},
   "source": [
    "#### else 문\n",
    "\n",
    "else는 앞선 모든 조건이 거짓일 때 실행될 코드 블록을 정의합니다."
   ]
  },
  {
   "cell_type": "code",
   "execution_count": 3,
   "metadata": {},
   "outputs": [
    {
     "name": "stdout",
     "output_type": "stream",
     "text": [
      "x는 5보다 작습니다.\n"
     ]
    }
   ],
   "source": [
    "x = 3\n",
    "if x > 5:\n",
    "    print(\"x는 5보다 큽니다.\")\n",
    "elif x == 5:\n",
    "    print(\"x는 5와 같습니다.\")\n",
    "else:\n",
    "    print(\"x는 5보다 작습니다.\")"
   ]
  },
  {
   "cell_type": "markdown",
   "metadata": {},
   "source": [
    "#### 중첩 조건문\n",
    "\n",
    "조건문은 다른 조건문 안에 중첩될 수 있습니다:"
   ]
  },
  {
   "cell_type": "code",
   "execution_count": 4,
   "metadata": {},
   "outputs": [
    {
     "name": "stdout",
     "output_type": "stream",
     "text": [
      "x는 5보다 큽니다.\n",
      "y도 2보다 큽니다.\n"
     ]
    }
   ],
   "source": [
    "x = 10\n",
    "y = 5\n",
    "\n",
    "if x > 5:\n",
    "    print(\"x는 5보다 큽니다.\")\n",
    "    if y > 2:\n",
    "        print(\"y도 2보다 큽니다.\")\n",
    "    else:\n",
    "        print(\"y는 2 이하입니다.\")"
   ]
  },
  {
   "cell_type": "markdown",
   "metadata": {},
   "source": [
    "#### 복합 조건\n",
    "\n",
    "논리 연산자 and, or, not을 사용하여 복합 조건을 만들 수 있습니다:"
   ]
  },
  {
   "cell_type": "code",
   "execution_count": 5,
   "metadata": {},
   "outputs": [
    {
     "name": "stdout",
     "output_type": "stream",
     "text": [
      "x는 5보다 크고 y는 5보다 작습니다.\n",
      "x는 10보다 크거나 y는 2보다 큽니다.\n",
      "x는 5보다 작지 않습니다.\n"
     ]
    }
   ],
   "source": [
    "x = 7\n",
    "y = 3\n",
    "\n",
    "if x > 5 and y < 5:\n",
    "    print(\"x는 5보다 크고 y는 5보다 작습니다.\")\n",
    "\n",
    "if x > 10 or y > 2:\n",
    "    print(\"x는 10보다 크거나 y는 2보다 큽니다.\")\n",
    "\n",
    "if not x < 5:\n",
    "    print(\"x는 5보다 작지 않습니다.\")"
   ]
  },
  {
   "cell_type": "code",
   "execution_count": 6,
   "metadata": {},
   "outputs": [
    {
     "name": "stdout",
     "output_type": "stream",
     "text": [
      "9α-Fludrocortisone\n"
     ]
    }
   ],
   "source": [
    "def calculate_ttkg(urine_k, plasma_k, plasma_osm, urine_osm):\n",
    "    \"\"\"TTKG 계산 공식\"\"\"\n",
    "    return (urine_k / plasma_k) * (plasma_osm / urine_osm)\n",
    "\n",
    "def hyperkalemia_workup(urinary_k_excretion, urine_na, urine_k, plasma_k, plasma_osm, urine_osm, gfr, renin, aldosterone):\n",
    "    # 1단계: Urinary K+ excretion 확인\n",
    "    if urinary_k_excretion < 40:\n",
    "\n",
    "        # 2단계: Urine Na+ 확인\n",
    "        if urine_na < 25:\n",
    "            return \"Decreased distal Na+ delivery (Urine Na < 25 mmol/L)\"\n",
    "        else:\n",
    "            # 3단계: TTKG 계산\n",
    "            ttkg = calculate_ttkg(urine_k, plasma_k, plasma_osm, urine_osm)\n",
    "            if ttkg < 5:\n",
    "                # 4단계: GFR 확인\n",
    "                if gfr > 20:\n",
    "                    if ttkg >= 8:\n",
    "                        # 5단계: Renin & Aldosterone 확인\n",
    "                        if aldosterone < 8:\n",
    "                            if renin < 8:\n",
    "                                return \"Low aldosterone, Low renin (Possible causes: Diabetes mellitus, NSAIDs, etc.)\"\n",
    "                            else:\n",
    "                                return \"Low aldosterone, High renin (Possible causes: Primary adrenal insufficiency, etc.)\"\n",
    "                        else:\n",
    "                            if renin >= 8:\n",
    "                                return \"High aldosterone, Low renin (Possible causes: Tubulointerstitial diseases)\"\n",
    "                            else:\n",
    "                                return \"High aldosterone, High renin (Check other causes)\"\n",
    "                    else:\n",
    "                        return \"9α-Fludrocortisone\"\n",
    "                else:\n",
    "                    return \"Advanced kidney failure (GFR ≤ 20 ml/min)\"\n",
    "            elif ttkg >= 8:\n",
    "                return \"Reduced tubular flow\"\n",
    "\n",
    "            else:\n",
    "                return \"TTKG < 8 (Tubular resistance)\"\n",
    "\n",
    "    else:\n",
    "        return \"No significant urinary K+ excretion problem\"\n",
    "    \n",
    "# 예시 입력값\n",
    "urinary_k_excretion = 35  # mmol/day\n",
    "urine_na = 30  # mmol/L\n",
    "urine_k = 50  # mmol/L\n",
    "plasma_k = 5.5  # mmol/L\n",
    "plasma_osm = 280  # mOsm/kg\n",
    "urine_osm = 600  # mOsm/kg\n",
    "gfr = 25  # ml/min\n",
    "renin = 7  # ng/mL/h\n",
    "aldosterone = 5  # ng/dL\n",
    "\n",
    "# Hyperkalemia workup 수행\n",
    "result = hyperkalemia_workup(urinary_k_excretion, urine_na, urine_k, plasma_k, plasma_osm, urine_osm, gfr, renin, aldosterone)\n",
    "print(result)\n"
   ]
  }
 ],
 "metadata": {
  "kernelspec": {
   "display_name": "Chapter2-_YcOpmeC",
   "language": "python",
   "name": "python3"
  },
  "language_info": {
   "codemirror_mode": {
    "name": "ipython",
    "version": 3
   },
   "file_extension": ".py",
   "mimetype": "text/x-python",
   "name": "python",
   "nbconvert_exporter": "python",
   "pygments_lexer": "ipython3",
   "version": "3.12.8"
  }
 },
 "nbformat": 4,
 "nbformat_minor": 2
}
