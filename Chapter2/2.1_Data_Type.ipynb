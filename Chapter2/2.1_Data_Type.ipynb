{
 "cells": [
  {
   "cell_type": "markdown",
   "metadata": {},
   "source": [
    "## 데이터 타입과 구조\n",
    "이 노트북은 파이썬의 기본 데이터 타입과 구조에 대해 자세히 다룹니다."
   ]
  },
  {
   "cell_type": "markdown",
   "metadata": {},
   "source": [
    "#### 1. 기본 데이터 타입"
   ]
  },
  {
   "cell_type": "markdown",
   "metadata": {},
   "source": [
    "#### 문자열 (String)\n",
    "\n",
    "문자열(String)은 텍스트 데이터를 저장하는 데이터 타입입니다. 파이썬에서 문자열은 불변(immutable)이며, 작은따옴표('), 큰따옴표(\"), 또는 삼중 따옴표(''' 또는 \"\"\")로 묶어서 표현합니다."
   ]
  },
  {
   "cell_type": "code",
   "execution_count": 1,
   "metadata": {},
   "outputs": [
    {
     "name": "stdout",
     "output_type": "stream",
     "text": [
      "홍길동\n",
      "당뇨병\n",
      "메트포르민\n"
     ]
    }
   ],
   "source": [
    "# 문자열 선언\n",
    "환자_이름 = '홍길동'\n",
    "진단명 = '당뇨병'\n",
    "처방_약물 = '메트포르민'\n",
    "\n",
    "# 변수 출력\n",
    "print(환자_이름)\n",
    "print(진단명)\n",
    "print(처방_약물)"
   ]
  },
  {
   "cell_type": "code",
   "execution_count": 2,
   "metadata": {},
   "outputs": [
    {
     "name": "stdout",
     "output_type": "stream",
     "text": [
      "<class 'str'>\n",
      "Python Programming Language\n",
      "====================\n",
      "Python is 30 years old\n",
      "Python is 30 years old\n",
      "Java is 25 years old\n",
      "Python is 30 years old\n",
      "PYTHON\n",
      "python\n",
      "hello\n",
      "a,b,c\n",
      "['hello', 'world']\n",
      "['hello', 'world']\n",
      "Jython\n",
      "3\n",
      "2\n",
      "True\n",
      "True\n",
      "True\n",
      "True\n",
      "P\n",
      "yth\n",
      "Py\n",
      "thon\n",
      "n\n",
      "hon\n",
      "Pto\n",
      "nohtyP\n"
     ]
    }
   ],
   "source": [
    "# 문자열 선언\n",
    "name = \"Python\"               # 큰따옴표\n",
    "description = 'Programming Language'  # 작은따옴표\n",
    "multiline = \"\"\"This is a\n",
    "multiline\n",
    "string.\"\"\"                    # 삼중 따옴표로 여러 줄 문자열\n",
    "\n",
    "# 특수 문자를 포함한 문자열\n",
    "special = \"Line1\\nLine2\\tTabbed\"  # \\n은 새 줄, \\t는 탭\n",
    "raw_string = r\"C:\\Users\\name\\Documents\"  # r 접두사로 raw string (이스케이프 처리 안함)\n",
    "\n",
    "# 타입 확인\n",
    "print(type(name))  # <class 'str'>\n",
    "\n",
    "# 문자열 연결\n",
    "full_desc = name + \" \" + description\n",
    "print(full_desc)  # Python Programming Language\n",
    "\n",
    "# 문자열 반복\n",
    "print(\"=\" * 20)  # ====================\n",
    "\n",
    "# 문자열 포맷팅\n",
    "# 1. f-string (Python 3.6+)\n",
    "age = 30\n",
    "print(f\"{name} is {age} years old\")  # Python is 30 years old\n",
    "\n",
    "# 2. format() 메서드\n",
    "print(\"{} is {} years old\".format(name, age))  # Python is 30 years old\n",
    "print(\"{name} is {age} years old\".format(name=\"Java\", age=25))  # Java is 25 years old\n",
    "\n",
    "# 3. % 연산자 (오래된 방식)\n",
    "print(\"%s is %d years old\" % (name, age))  # Python is 30 years old\n",
    "\n",
    "# 문자열 메서드\n",
    "print(name.upper())        # PYTHON (대문자로 변환)\n",
    "print(name.lower())        # python (소문자로 변환)\n",
    "print(\"  hello  \".strip())  # \"hello\" (앞뒤 공백 제거)\n",
    "print(\",\".join([\"a\", \"b\", \"c\"]))  # \"a,b,c\" (리스트 항목을 구분자로 연결)\n",
    "print(\"hello world\".split())  # ['hello', 'world'] (공백 기준으로 분리)\n",
    "print(\"hello,world\".split(','))  # ['hello', 'world'] (콤마 기준으로 분리)\n",
    "print(\"Python\".replace(\"P\", \"J\"))  # \"Jython\" (문자 치환)\n",
    "print(\"banana\".count(\"a\"))  # 3 (문자 출현 횟수)\n",
    "print(\"Python\".find(\"th\"))  # 2 (부분 문자열 위치, 없으면 -1)\n",
    "print(\"Python\".startswith(\"Py\"))  # True (접두사 확인)\n",
    "print(\"Python\".endswith(\"on\"))  # True (접미사 확인)\n",
    "print(\"123\".isdigit())  # True (숫자로만 구성되었는지 확인)\n",
    "print(\"Python\".isalpha())  # True (문자로만 구성되었는지 확인)\n",
    "\n",
    "# 문자열 인덱싱과 슬라이싱\n",
    "print(name[0])    # P (첫 번째 문자)\n",
    "print(name[1:4])  # yth (인덱스 1부터 3까지)\n",
    "print(name[:2])   # Py (처음부터 인덱스 1까지)\n",
    "print(name[2:])   # thon (인덱스 2부터 끝까지)\n",
    "print(name[-1])   # n (마지막 문자)\n",
    "print(name[-3:])  # hon (뒤에서 3번째부터 끝까지)\n",
    "print(name[::2])  # Pto (처음부터 끝까지 2 스텝으로)\n",
    "print(name[::-1])  # nohtyP (문자열 뒤집기)"
   ]
  },
  {
   "cell_type": "markdown",
   "metadata": {},
   "source": [
    "##### 정수 (Integer)\n",
    "정수(Integer)는 소수점이 없는 양수, 음수, 또는 0을 표현하는 데이터 타입입니다. 파이썬의 정수는 크기에 제한이 없습니다."
   ]
  },
  {
   "cell_type": "code",
   "execution_count": 3,
   "metadata": {},
   "outputs": [
    {
     "name": "stdout",
     "output_type": "stream",
     "text": [
      "45\n",
      "80\n",
      "120\n"
     ]
    }
   ],
   "source": [
    "# 정수 할당\n",
    "나이 = 45\n",
    "심박수 = 80\n",
    "수축기_혈압 = 120\n",
    "\n",
    "# 변수 출력\n",
    "print(나이)\n",
    "print(심박수)\n",
    "print(수축기_혈압)"
   ]
  },
  {
   "cell_type": "code",
   "execution_count": 4,
   "metadata": {},
   "outputs": [
    {
     "name": "stdout",
     "output_type": "stream",
     "text": [
      "<class 'int'>\n",
      "5\n",
      "15\n",
      "-50\n",
      "-2.0\n",
      "-2\n",
      "0\n",
      "100\n",
      "0b1010\n",
      "0o12\n",
      "0xa\n",
      "10\n",
      "10\n",
      "10\n"
     ]
    }
   ],
   "source": [
    "# 정수 선언\n",
    "a = 10        # 양수\n",
    "b = -5        # 음수\n",
    "c = 0         # 0\n",
    "big_num = 10000000000000000000000  # 매우 큰 수도 처리 가능\n",
    "\n",
    "# 타입 확인\n",
    "print(type(a))  # <class 'int'>\n",
    "\n",
    "# 정수 연산\n",
    "print(a + b)    # 5 (덧셈)\n",
    "print(a - b)    # 15 (뺄셈)\n",
    "print(a * b)    # -50 (곱셈)\n",
    "print(a / b)    # -2.0 (나눗셈, 결과는 float)\n",
    "print(a // b)   # -2 (floor division: 소수점 이하를 버림)\n",
    "print(a % b)    # 0 (나머지)\n",
    "print(a ** 2)   # 100 (거듭제곱)\n",
    "\n",
    "# 2진수, 8진수, 16진수 표현\n",
    "print(bin(10))  # 0b1010 (2진수)\n",
    "print(oct(10))  # 0o12 (8진수)\n",
    "print(hex(10))  # 0xa (16진수)\n",
    "\n",
    "# 다른 진수의 숫자를 정수로 변환\n",
    "print(int('1010', 2))  # 10 (2진수 '1010'을 10진수로)\n",
    "print(int('12', 8))    # 10 (8진수 '12'를 10진수로)\n",
    "print(int('a', 16))    # 10 (16진수 'a'를 10진수로)"
   ]
  },
  {
   "cell_type": "markdown",
   "metadata": {},
   "source": [
    "#### 부동 소수점 (Float)\n",
    "\n",
    "부동 소수점(Float)은 소수점이 있는 실수를 표현하는 데이터 타입입니다. 파이썬의 float은 IEEE 754 표준을 따르며, 일반적으로 64비트 precision을, 가지고 있습니다."
   ]
  },
  {
   "cell_type": "code",
   "execution_count": 5,
   "metadata": {},
   "outputs": [
    {
     "name": "stdout",
     "output_type": "stream",
     "text": [
      "37.5\n",
      "5.8\n",
      "24.6\n"
     ]
    }
   ],
   "source": [
    "체온 = 37.5\n",
    "혈당 = 5.8\n",
    "BMI = 24.6\n",
    "\n",
    "print(체온)\n",
    "print(혈당)\n",
    "print(BMI)"
   ]
  },
  {
   "cell_type": "code",
   "execution_count": 6,
   "metadata": {},
   "outputs": [
    {
     "name": "stdout",
     "output_type": "stream",
     "text": [
      "<class 'float'>\n",
      "3.1390000000000002\n",
      "6.28\n",
      "1.57\n",
      "0.30000000000000004\n",
      "False\n",
      "True\n",
      "True\n",
      "True\n",
      "True\n",
      "inf\n",
      "-inf\n",
      "nan\n",
      "True\n",
      "True\n"
     ]
    }
   ],
   "source": [
    "# 부동 소수점 선언\n",
    "a = 3.14      # 일반적인 소수\n",
    "b = -0.001    # 음수 소수\n",
    "c = 2.0       # 정수 값이지만 소수점이 있으면 float\n",
    "d = 1e6       # 1,000,000.0 (지수 표기법)\n",
    "e = 1e-6      # 0.000001 (지수 표기법)\n",
    "\n",
    "# 타입 확인\n",
    "print(type(a))  # <class 'float'>\n",
    "\n",
    "# 부동 소수점 연산\n",
    "print(a + b)    # 3.139 (덧셈)\n",
    "print(a * c)    # 6.28 (곱셈)\n",
    "print(a / c)    # 1.57 (나눗셈)\n",
    "\n",
    "# 부동 소수점 정밀도 문제\n",
    "print(0.1 + 0.2)         # 0.30000000000000004\n",
    "print(0.1 + 0.2 == 0.3)  # False\n",
    "\n",
    "# 정밀도 문제 해결 방법\n",
    "# 1. math.isclose 사용\n",
    "import math\n",
    "print(math.isclose(0.1 + 0.2, 0.3))  # True\n",
    "print(math.isclose(0.1 + 0.2, 0.3, rel_tol=1e-10))  # True, 상대 오차 지정\n",
    "\n",
    "# 2. round 함수 사용\n",
    "print(round(0.1 + 0.2, 10) == round(0.3, 10))  # True\n",
    "\n",
    "# 3. Decimal 모듈 사용 (정확한 10진 연산)\n",
    "from decimal import Decimal\n",
    "print(Decimal('0.1') + Decimal('0.2') == Decimal('0.3'))  # True\n",
    "\n",
    "# float의 특수값\n",
    "print(float('inf'))  # 무한대\n",
    "print(float('-inf'))  # 음의 무한대\n",
    "print(float('nan'))  # Not a Number (숫자가 아님)\n",
    "\n",
    "# 특수값 확인\n",
    "print(math.isinf(float('inf')))  # True\n",
    "print(math.isnan(float('nan')))  # True"
   ]
  },
  {
   "cell_type": "markdown",
   "metadata": {},
   "source": [
    "#### 불리언 (Boolean)\n",
    "\n",
    "불리언(Boolean)은 참(True) 또는 거짓(False)을 나타내며, 특정 증상이나 조건의 유무를 표현할 때 사용합니다."
   ]
  },
  {
   "cell_type": "code",
   "execution_count": 7,
   "metadata": {},
   "outputs": [
    {
     "name": "stdout",
     "output_type": "stream",
     "text": [
      "True\n",
      "False\n",
      "True\n"
     ]
    }
   ],
   "source": [
    "고혈압_여부 = True\n",
    "흡연자_여부 = False\n",
    "알레르기_존재 = True\n",
    "\n",
    "print(고혈압_여부)\n",
    "print(흡연자_여부)\n",
    "print(알레르기_존재)"
   ]
  },
  {
   "cell_type": "markdown",
   "metadata": {},
   "source": [
    "#### 2. 컬렉션 데이터 타입"
   ]
  },
  {
   "cell_type": "markdown",
   "metadata": {},
   "source": [
    "#### 리스트 (List)\n",
    "\n",
    "리스트(List)는 순서가 있고 변경 가능한(mutable) 객체들의 집합입니다. 다른 언어의 배열과 유사하지만, 여러 타입의 객체를 포함할 수 있습니다."
   ]
  },
  {
   "cell_type": "code",
   "execution_count": 8,
   "metadata": {},
   "outputs": [
    {
     "name": "stdout",
     "output_type": "stream",
     "text": [
      "<class 'list'>\n",
      "['발열', '기침', '두통']\n"
     ]
    }
   ],
   "source": [
    "symptoms = ['발열', '기침', '두통']\n",
    "\n",
    "print(type(symptoms))\n",
    "print(symptoms)"
   ]
  },
  {
   "cell_type": "code",
   "execution_count": 9,
   "metadata": {},
   "outputs": [
    {
     "name": "stdout",
     "output_type": "stream",
     "text": [
      "<class 'list'>\n",
      "1\n",
      "5\n",
      "[2, 3]\n",
      "2\n",
      "[5, 4, 3, 2, 1]\n",
      "[0, 2, 3, 4, 5]\n",
      "[1, 1, 3, 4, 5, 9]\n",
      "[3, 1, 4, 1, 5, 9]\n",
      "[1, 2, 3, 4]\n",
      "[1, 2, 1, 2, 1, 2]\n",
      "2\n",
      "True\n",
      "[0, 1, 4, 9, 16, 25, 36, 49, 64, 81]\n",
      "[0, 4, 16, 36, 64]\n",
      "[[1, 2, 3], [2, 4, 6], [3, 6, 9]]\n",
      "(1, 2, 3)\n",
      "{1, 2, 3}\n",
      "abc\n"
     ]
    }
   ],
   "source": [
    "# 리스트 선언\n",
    "numbers = [1, 2, 3, 4, 5]             # 숫자 리스트\n",
    "mixed = [1, \"hello\", 3.14, True]      # 다양한 타입 혼합\n",
    "nested = [1, [2, 3], [4, 5, 6]]       # 중첩 리스트\n",
    "empty = []                            # 빈 리스트\n",
    "also_empty = list()                   # 빈 리스트 생성 함수\n",
    "\n",
    "# 타입 확인\n",
    "print(type(numbers))  # <class 'list'>\n",
    "\n",
    "# 리스트 인덱싱과 슬라이싱\n",
    "print(numbers[0])     # 1 (첫 번째 요소)\n",
    "print(numbers[-1])    # 5 (마지막 요소)\n",
    "print(numbers[1:3])   # [2, 3] (인덱스 1부터 2까지)\n",
    "print(nested[1][0])   # 2 (중첩 리스트 접근)\n",
    "print(numbers[::-1])  # [5, 4, 3, 2, 1] (리스트 뒤집기)\n",
    "\n",
    "# 리스트 수정\n",
    "numbers[0] = 0        # 값 변경\n",
    "print(numbers)        # [0, 2, 3, 4, 5]\n",
    "\n",
    "# 리스트 메서드\n",
    "numbers.append(6)     # 끝에 요소 추가: [0, 2, 3, 4, 5, 6]\n",
    "numbers.insert(1, 1)  # 인덱스 1에 요소 추가: [0, 1, 2, 3, 4, 5, 6]\n",
    "numbers.extend([7, 8])  # 리스트 확장: [0, 1, 2, 3, 4, 5, 6, 7, 8]\n",
    "numbers.remove(3)     # 값이 3인 첫 번째 요소 제거: [0, 1, 2, 4, 5, 6, 7, 8]\n",
    "popped = numbers.pop()  # 마지막 요소 제거 및 반환: popped = 8, numbers = [0, 1, 2, 4, 5, 6, 7]\n",
    "popped_index = numbers.pop(2)  # 인덱스 2의 요소 제거 및 반환: popped_index = 2, numbers = [0, 1, 4, 5, 6, 7]\n",
    "numbers.sort()        # 오름차순 정렬: [0, 1, 4, 5, 6, 7]\n",
    "numbers.sort(reverse=True)  # 내림차순 정렬: [7, 6, 5, 4, 1, 0]\n",
    "numbers.reverse()     # 리스트 뒤집기: [0, 1, 4, 5, 6, 7]\n",
    "index = numbers.index(4)  # 값이 4인 요소의 인덱스: index = 2\n",
    "count = numbers.count(1)  # 값이 1인 요소의 개수: count = 1\n",
    "numbers.clear()       # 모든 요소 제거: []\n",
    "\n",
    "# 새 리스트 반환하는 정렬\n",
    "original = [3, 1, 4, 1, 5, 9]\n",
    "sorted_list = sorted(original)  # 원본을 변경하지 않고 정렬된 새 리스트 반환\n",
    "print(sorted_list)    # [1, 1, 3, 4, 5, 9]\n",
    "print(original)       # [3, 1, 4, 1, 5, 9] (원본은 그대로)\n",
    "\n",
    "# 리스트 연산\n",
    "a = [1, 2]\n",
    "b = [3, 4]\n",
    "print(a + b)          # [1, 2, 3, 4] (연결)\n",
    "print(a * 3)          # [1, 2, 1, 2, 1, 2] (반복)\n",
    "print(len(a))         # 2 (길이)\n",
    "print(3 in b)         # True (포함 여부)\n",
    "\n",
    "# 리스트 내포(List Comprehension)\n",
    "squares = [x**2 for x in range(10)]\n",
    "print(squares)  # [0, 1, 4, 9, 16, 25, 36, 49, 64, 81]\n",
    "\n",
    "even_squares = [x**2 for x in range(10) if x % 2 == 0]\n",
    "print(even_squares)  # [0, 4, 16, 36, 64]\n",
    "\n",
    "# 중첩 리스트 내포\n",
    "matrix = [[i*j for j in range(1, 4)] for i in range(1, 4)]\n",
    "print(matrix)  # [[1, 2, 3], [2, 4, 6], [3, 6, 9]]\n",
    "\n",
    "# 리스트의 복사\n",
    "a = [1, 2, 3]\n",
    "b = a          # 참조 복사 (동일한 객체를 가리킴)\n",
    "c = a.copy()   # 얕은 복사\n",
    "d = a[:]       # 슬라이싱으로 얕은 복사\n",
    "import copy\n",
    "e = copy.deepcopy(a)  # 깊은 복사\n",
    "\n",
    "# 리스트를 다른 데이터 타입으로 변환\n",
    "print(tuple([1, 2, 3]))     # (1, 2, 3) (튜플로 변환)\n",
    "print(set([1, 2, 2, 3, 3]))  # {1, 2, 3} (세트로 변환, 중복 제거)\n",
    "print(\"\".join([\"a\", \"b\", \"c\"]))  # \"abc\" (문자열로 변환)"
   ]
  },
  {
   "cell_type": "markdown",
   "metadata": {},
   "source": [
    "- 리스트는 순서가 있고 변경 가능한(mutable) 데이터 타입입니다.\n",
    "- 대괄호 []로 선언하며, 콤마로 구분된 항목들을 포함합니다.\n",
    "- 다양한 데이터 타입(정수, 문자열, 부동 소수점, 심지어 다른 리스트)을 포함할 수 있습니다.\n",
    "- 인덱싱은 0부터 시작하며, 음수 인덱스는 뒤에서부터 접근합니다.\n",
    "- 리스트는 가변적이므로 요소를 추가, 제거, 변경할 수 있습니다.\n",
    "- 주요 메서드: append(), insert(), extend(), remove(), pop(), sort(), reverse() 등\n",
    "- 리스트 내포(List Comprehension)는 보다 간결하고 효율적인 리스트 생성 방법을 제공합니다.\n",
    "- 리스트의 복사는 참조 복사, 얕은 복사, 깊은 복사 중 하나를 선택할 수 있습니다.\n",
    "- 변수에 대입할 때 리스트는 참조로 전달되므로, 하나의 참조를 변경하면 원본 데이터도 변경됩니다."
   ]
  },
  {
   "cell_type": "markdown",
   "metadata": {},
   "source": [
    "#### 튜플 (Tuple)\n",
    "\n",
    "튜플(Tuple)은 순서가 있고 변경이 불가능한(immutable) 객체들의 집합입니다. 한 번 생성된 튜플은 수정할 수 없어 데이터 무결성이 중요한 경우에 유용합니다."
   ]
  },
  {
   "cell_type": "code",
   "execution_count": 10,
   "metadata": {},
   "outputs": [
    {
     "name": "stdout",
     "output_type": "stream",
     "text": [
      "<class 'tuple'>\n",
      "('홍길동', 45, '남성', 175)\n"
     ]
    }
   ],
   "source": [
    "patient_info = ('홍길동', 45, '남성', 175)\n",
    "\n",
    "print(type(patient_info))\n",
    "print(patient_info)"
   ]
  },
  {
   "cell_type": "code",
   "execution_count": 11,
   "metadata": {},
   "outputs": [
    {
     "name": "stdout",
     "output_type": "stream",
     "text": [
      "<class 'tuple'>\n",
      "10\n",
      "(25, 'New York')\n",
      "2\n",
      "10 20\n",
      "1\n",
      "[2, 3, 4, 5]\n",
      "[1, 2, 3, 4]\n",
      "5\n",
      "1 5\n",
      "1\n",
      "1\n",
      "(1, 2, 3, 4)\n",
      "(1, 2, 1, 2, 1, 2)\n",
      "2\n",
      "True\n",
      "[1, 2, 3]\n",
      "{1, 2}\n",
      "X: 10, Y: 20\n",
      "10 20\n",
      "10 20\n"
     ]
    }
   ],
   "source": [
    "# 튜플 선언\n",
    "coordinates = (10, 20)              # 간단한 튜플\n",
    "person = (\"John\", 25, \"New York\")   # 다양한 타입 혼합\n",
    "single_item = (5,)                  # 항목이 하나일 때는 콤마 필요\n",
    "empty = ()                          # 빈 튜플\n",
    "also_empty = tuple()                # 빈 튜플 생성 함수\n",
    "nested = (1, (2, 3), (4, 5, 6))     # 중첩 튜플\n",
    "\n",
    "# 타입 확인\n",
    "print(type(coordinates))  # <class 'tuple'>\n",
    "\n",
    "# 튜플 인덱싱과 슬라이싱\n",
    "print(coordinates[0])     # 10 (첫 번째 요소)\n",
    "print(person[1:])         # (25, 'New York') (인덱스 1부터 끝까지)\n",
    "print(nested[1][0])       # 2 (중첩 튜플 접근)\n",
    "\n",
    "# 튜플 패킹과 언패킹\n",
    "coordinates = 10, 20      # 패킹 (괄호 생략 가능)\n",
    "x, y = coordinates        # 언패킹\n",
    "print(x, y)               # 10 20\n",
    "\n",
    "# 확장된 언패킹 (Python 3.x)\n",
    "first, *rest = (1, 2, 3, 4, 5)\n",
    "print(first)              # 1\n",
    "print(rest)               # [2, 3, 4, 5] (나머지는 리스트로)\n",
    "\n",
    "*beginning, last = (1, 2, 3, 4, 5)\n",
    "print(beginning)          # [1, 2, 3, 4]\n",
    "print(last)               # 5\n",
    "\n",
    "# 함수에서 여러 값 반환 시 튜플 사용\n",
    "def get_min_max(numbers):\n",
    "    return min(numbers), max(numbers)\n",
    "\n",
    "min_val, max_val = get_min_max([1, 2, 3, 4, 5])\n",
    "print(min_val, max_val)  # 1 5\n",
    "\n",
    "# 튜플은 수정 불가능\n",
    "# coordinates[0] = 100  # TypeError: 'tuple' object does not support item assignment\n",
    "\n",
    "# 튜플 메서드 (제한적)\n",
    "print(coordinates.count(10))  # 1 (값이 10인 요소의 개수)\n",
    "print(coordinates.index(20))  # 1 (값이 20인 요소의 인덱스)\n",
    "\n",
    "# 튜플 연산\n",
    "a = (1, 2)\n",
    "b = (3, 4)\n",
    "print(a + b)          # (1, 2, 3, 4) (연결)\n",
    "print(a * 3)          # (1, 2, 1, 2, 1, 2) (반복)\n",
    "print(len(a))         # 2 (길이)\n",
    "print(1 in a)         # True (포함 여부)\n",
    "\n",
    "# 튜플을 다른 데이터 타입으로 변환\n",
    "print(list((1, 2, 3)))  # [1, 2, 3] (리스트로 변환)\n",
    "print(set((1, 2, 2)))   # {1, 2} (세트로 변환, 중복 제거)\n",
    "\n",
    "# 튜플의 활용: 딕셔너리 키, 함수 인자\n",
    "def print_coordinates(point):\n",
    "    x, y = point\n",
    "    print(f\"X: {x}, Y: {y}\")\n",
    "\n",
    "print_coordinates((10, 20))  # X: 10, Y: 20\n",
    "\n",
    "# 네임드 튜플 (collections 모듈)\n",
    "from collections import namedtuple\n",
    "Point = namedtuple('Point', ['x', 'y'])\n",
    "p = Point(10, 20)\n",
    "print(p.x, p.y)       # 10 20\n",
    "print(p[0], p[1])     # 10 20"
   ]
  },
  {
   "cell_type": "markdown",
   "metadata": {},
   "source": [
    "#### 딕셔너리 (Dictionary)\n",
    "\n",
    "딕셔너리(Dictionary)는 키-값 쌍을 저장하는 변경 가능한(mutable) 자료구조입니다. 각 키는 고유해야 하며, 해시 가능한(hashable) 타입이어야 합니다. {‘키1’:’값1’, ‘키2’:’값2’} 구조를 띄고 있습니다."
   ]
  },
  {
   "cell_type": "code",
   "execution_count": 12,
   "metadata": {},
   "outputs": [
    {
     "name": "stdout",
     "output_type": "stream",
     "text": [
      "<class 'dict'>\n",
      "{'이름': '홍길동', '나이': 45, '진단': '폐렴'}\n"
     ]
    }
   ],
   "source": [
    "medical_record = {'이름': '홍길동', '나이': 45, '진단': '폐렴'}\n",
    "\n",
    "print(type(medical_record))\n",
    "print(medical_record)"
   ]
  },
  {
   "cell_type": "code",
   "execution_count": 13,
   "metadata": {},
   "outputs": [
    {
     "name": "stdout",
     "output_type": "stream",
     "text": [
      "<class 'dict'>\n",
      "Alice\n",
      "20\n",
      "None\n",
      "Not Available\n",
      "{'name': 'Alice', 'age': 21, 'major': 'Computer Science', 'grades': [90, 85, 95], 'phone': '123-456-7890'}\n",
      "dict_keys(['name', 'age', 'major', 'grades', 'phone'])\n",
      "dict_values(['Alice', 21, 'Computer Science', [90, 85, 95], '123-456-7890'])\n",
      "dict_items([('name', 'Alice'), ('age', 21), ('major', 'Computer Science'), ('grades', [90, 85, 95]), ('phone', '123-456-7890')])\n",
      "True\n",
      "False\n",
      "Computer Science\n",
      "('grades', [90, 85, 95])\n",
      "{'name': 'Alice', 'age': 20, 'gender': 'Female', 'country': 'USA'}\n"
     ]
    }
   ],
   "source": [
    "# 딕셔너리 선언\n",
    "student = {\n",
    "    \"name\": \"Alice\",\n",
    "    \"age\": 20,\n",
    "    \"major\": \"Computer Science\",\n",
    "    \"grades\": [90, 85, 95]\n",
    "}\n",
    "\n",
    "empty_dict = {}                 # 빈 딕셔너리\n",
    "another_dict = dict(name=\"Bob\", age=25)  # dict() 함수로 생성\n",
    "from_tuples = dict([(\"name\", \"Charlie\"), (\"age\", 30)])  # 튜플 리스트로 생성\n",
    "from_keys = dict.fromkeys([\"name\", \"age\", \"major\"], None)  # 키 리스트로 생성\n",
    "\n",
    "# 타입 확인\n",
    "print(type(student))  # <class 'dict'>\n",
    "\n",
    "# 딕셔너리 접근\n",
    "print(student[\"name\"])    # Alice (키로 값 접근)\n",
    "# print(student[\"phone\"])  # KeyError: 'phone' (존재하지 않는 키)\n",
    "print(student.get(\"age\"))  # 20 (get 메서드로 안전하게 값 접근)\n",
    "print(student.get(\"phone\"))  # None (키가 없으면 None 반환)\n",
    "print(student.get(\"phone\", \"Not Available\"))  # Not Available (기본값 제공)\n",
    "\n",
    "# 딕셔너리 수정\n",
    "student[\"age\"] = 21       # 기존 키의 값 변경\n",
    "student[\"phone\"] = \"123-456-7890\"  # 새 키-값 쌍 추가\n",
    "print(student)\n",
    "\n",
    "# 딕셔너리 메서드\n",
    "print(student.keys())    # dict_keys(['name', 'age', 'major', 'grades', 'phone'])\n",
    "print(student.values())  # dict_values(['Alice', 21, 'Computer Science', [90, 85, 95], '123-456-7890'])\n",
    "print(student.items())   # dict_items([('name', 'Alice'), ('age', 21), ...])\n",
    "\n",
    "# 키 존재 확인\n",
    "print(\"name\" in student)  # True\n",
    "print(\"email\" in student)  # False\n",
    "\n",
    "# 딕셔너리 항목 삭제\n",
    "del student[\"phone\"]     # 키-값 쌍 삭제\n",
    "removed = student.pop(\"major\")  # 키-값 쌍 삭제 및 값 반환\n",
    "print(removed)           # Computer Science\n",
    "last_item = student.popitem()  # 마지막으로 추가된 키-값 쌍 삭제 및 반환 (Python 3.7+)\n",
    "print(last_item)         # ('grades', [90, 85, 95])\n",
    "student.clear()          # 모든 항목 삭제\n",
    "\n",
    "# 딕셔너리 병합\n",
    "profile = {\"gender\": \"Female\", \"country\": \"USA\"}\n",
    "student = {\"name\": \"Alice\", \"age\": 20}\n",
    "\n",
    "# Python 3.9+\n",
    "# merged = student | profile  # {'name': 'Alice', 'age': 20, 'gender': 'Female', 'country': 'USA'}\n",
    "\n",
    "# Python 3.5+\n",
    "student.update(profile)  # student 딕셔너리에 profile 항목 추가\n",
    "print(student)           # {'name': 'Alice', 'age': 20, 'gender': 'Female', 'country': 'USA'}\n",
    "\n",
    "# 딕셔너리 내포(Dictionary Comprehension)\n",
    "squares_dict = {x: x**2 for x in range(5)}"
   ]
  },
  {
   "cell_type": "markdown",
   "metadata": {},
   "source": [
    "#### 세트 (Set)\n",
    "\n",
    "세트(Set)는 중복을 허용하지 않고 순서가 없는 해시 가능한(hashable) 객체의 집합입니다. 수학의 집합 개념과 유사하며, 합집합, 교집합, 차집합 등의 집합 연산을 지원합니다."
   ]
  },
  {
   "cell_type": "code",
   "execution_count": 14,
   "metadata": {},
   "outputs": [
    {
     "name": "stdout",
     "output_type": "stream",
     "text": [
      "<class 'set'>\n",
      "{'아스피린', '페니실린'}\n"
     ]
    }
   ],
   "source": [
    "allergies = {'페니실린', '아스피린'}\n",
    "             \n",
    "print(type(allergies))\n",
    "print(allergies)"
   ]
  },
  {
   "cell_type": "code",
   "execution_count": 15,
   "metadata": {},
   "outputs": [
    {
     "name": "stdout",
     "output_type": "stream",
     "text": [
      "<class 'set'>\n",
      "{1, 2, 3}\n",
      "orange\n",
      "{'kiwi', 'apple', 'grape'}\n",
      "{1, 2, 3, 4, 5, 6}\n",
      "{1, 2, 3, 4, 5, 6}\n",
      "{3, 4}\n",
      "{3, 4}\n",
      "{1, 2}\n",
      "{1, 2}\n",
      "{1, 2, 5, 6}\n",
      "{1, 2, 5, 6}\n",
      "True\n",
      "True\n",
      "True\n",
      "{0, 2, 4, 6, 8}\n",
      "[1, 2, 3]\n",
      "(1, 2, 3)\n",
      "b,a,c\n"
     ]
    }
   ],
   "source": [
    "# 세트 선언\n",
    "fruits = {\"apple\", \"banana\", \"orange\"}    # 중괄호로 선언\n",
    "numbers = set([1, 2, 3, 2, 1])           # set() 함수로 선언 (중복 자동 제거)\n",
    "empty_set = set()                        # 빈 세트 (빈 중괄호 {}는 딕셔너리를 의미)\n",
    "frozen = frozenset([\"a\", \"b\", \"c\"])      # 불변 세트 (frozenset)\n",
    "\n",
    "# 타입 확인\n",
    "print(type(fruits))  # <class 'set'>\n",
    "print(numbers)       # {1, 2, 3} (중복 제거됨)\n",
    "\n",
    "# 세트의 특징: 순서가 없음, 인덱싱 불가\n",
    "# print(fruits[0])   # TypeError: 'set' object is not subscriptable\n",
    "\n",
    "# 세트 조작\n",
    "fruits.add(\"grape\")           # 요소 추가\n",
    "fruits.update([\"melon\", \"kiwi\"])  # 여러 요소 추가\n",
    "fruits.remove(\"banana\")       # 요소 제거 (요소가 없으면 KeyError)\n",
    "fruits.discard(\"melon\")       # 요소 제거 (요소가 없어도 에러 없음)\n",
    "popped = fruits.pop()         # 임의의 요소 제거 및 반환\n",
    "print(popped)                 # 세트는 순서가 없어 어떤 요소가 제거될지 예측 불가\n",
    "print(fruits)\n",
    "\n",
    "fruits.clear()                # 모든 요소 제거\n",
    "\n",
    "# 세트 연산\n",
    "a = {1, 2, 3, 4}\n",
    "b = {3, 4, 5, 6}\n",
    "\n",
    "# 합집합\n",
    "print(a | b)          # {1, 2, 3, 4, 5, 6}\n",
    "print(a.union(b))     # {1, 2, 3, 4, 5, 6}\n",
    "\n",
    "# 교집합\n",
    "print(a & b)          # {3, 4}\n",
    "print(a.intersection(b))  # {3, 4}\n",
    "\n",
    "# 차집합\n",
    "print(a - b)          # {1, 2}\n",
    "print(a.difference(b))  # {1, 2}\n",
    "\n",
    "# 대칭차 (합집합 - 교집합)\n",
    "print(a ^ b)          # {1, 2, 5, 6}\n",
    "print(a.symmetric_difference(b))  # {1, 2, 5, 6}\n",
    "\n",
    "# 부분집합과 상위집합 확인\n",
    "c = {1, 2}\n",
    "print(c.issubset(a))   # True (c는 a의 부분집합)\n",
    "print(a.issuperset(c))  # True (a는 c의 상위집합)\n",
    "\n",
    "# 서로소 집합 확인 (공통 요소가 없음)\n",
    "print(a.isdisjoint({7, 8, 9}))  # True (공통 요소 없음)\n",
    "\n",
    "# 세트 내포(Set Comprehension)\n",
    "even_set = {x for x in range(10) if x % 2 == 0}\n",
    "print(even_set)  # {0, 2, 4, 6, 8}\n",
    "\n",
    "# 세트와 다른 자료형 변환\n",
    "print(list({1, 2, 3}))       # [1, 2, 3] (리스트로 변환, 순서 보장 안됨)\n",
    "print(tuple({1, 2, 3}))      # (1, 2, 3) (튜플로 변환, 순서 보장 안됨)\n",
    "print(\",\".join({\"a\", \"b\", \"c\"}))  # 세트를 문자열로 변환 (순서 보장 안됨)"
   ]
  }
 ],
 "metadata": {
  "kernelspec": {
   "display_name": "Chapter2-_YcOpmeC",
   "language": "python",
   "name": "python3"
  },
  "language_info": {
   "codemirror_mode": {
    "name": "ipython",
    "version": 3
   },
   "file_extension": ".py",
   "mimetype": "text/x-python",
   "name": "python",
   "nbconvert_exporter": "python",
   "pygments_lexer": "ipython3",
   "version": "3.12.8"
  }
 },
 "nbformat": 4,
 "nbformat_minor": 2
}
