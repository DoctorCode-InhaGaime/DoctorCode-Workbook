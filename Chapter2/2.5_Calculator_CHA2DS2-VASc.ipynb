{
 "cells": [
  {
   "cell_type": "markdown",
   "metadata": {},
   "source": [
    "#### 딕셔너리를 활용한 계산"
   ]
  },
  {
   "cell_type": "code",
   "execution_count": 2,
   "metadata": {},
   "outputs": [
    {
     "name": "stdout",
     "output_type": "stream",
     "text": [
      "CHA2DS2-VASc 점수: 9\n"
     ]
    }
   ],
   "source": [
    "chadsvasc_factors = {\n",
    "    '나이 (75세 이상은 2점, 65~74세는 1점)': None,\n",
    "    '고혈압 (예/아니오)': 1,\n",
    "    '당뇨병 (예/아니오)': 1,\n",
    "    '심부전 (예/아니오)': 1,\n",
    "    '뇌졸중/일과성허혈발작 병력 (예/아니오)': 2,\n",
    "    '혈관질환 (예/아니오)': 1,\n",
    "    '여성 (예/아니오)': 1,\n",
    "}\n",
    "\n",
    "# 점수 초기화\n",
    "total_score = 0\n",
    "\n",
    "# 각 항목을 입력받아 점수 계산\n",
    "for factor, score in chadsvasc_factors.items():\n",
    "    if factor == '나이 (75세 이상은 2점, 65~74세는 1점)':\n",
    "        for _ in iter(int, 1):  # 무한 반복\n",
    "            try:\n",
    "                age = int(input(factor + ': '))\n",
    "                if age >= 75:\n",
    "                    total_score += 2\n",
    "                elif age >= 65:\n",
    "                    total_score += 1\n",
    "                break  # 올바른 입력이면 반복 종료\n",
    "            except ValueError:\n",
    "                print(\"잘못된 입력입니다. 숫자로 나이를 입력해 주세요.\")\n",
    "    else:\n",
    "        for _ in iter(int, 1):  # 무한 반복\n",
    "            answer = input(factor + ': ').strip()\n",
    "            if answer == '예':\n",
    "                total_score += score\n",
    "                break  # 올바른 입력이면 반복 종료\n",
    "            elif answer == '아니오':\n",
    "                break  # 올바른 입력이면 반복 종료\n",
    "            else:\n",
    "                print(\"잘못된 입력입니다. 예 또는 아니오로 입력해 주세요.\")\n",
    "\n",
    "# 결과 출력\n",
    "print(f'CHA2DS2-VASc 점수: {total_score}')"
   ]
  },
  {
   "cell_type": "markdown",
   "metadata": {},
   "source": [
    "#### 리스트를 활용한 계산\n"
   ]
  },
  {
   "cell_type": "code",
   "execution_count": 3,
   "metadata": {},
   "outputs": [
    {
     "name": "stdout",
     "output_type": "stream",
     "text": [
      "숫자를 입력해 주세요.\n",
      "숫자를 입력해 주세요.\n",
      "CHA2DS2-VASc 점수: 9\n"
     ]
    }
   ],
   "source": [
    "# CHA2DS2-VASc 점수 항목\n",
    "chadsvasc_factors = [\n",
    "    ('심부전 여부 (예/아니오)', 1),\n",
    "    ('고혈압 여부 (예/아니오)', 1),\n",
    "    ('나이 (75세 이상은 2점, 65~74세는 1점)', 2),\n",
    "    ('당뇨병 여부 (예/아니오)', 1),\n",
    "    ('뇌졸중/TIA 병력 여부 (예/아니오)', 2),\n",
    "    ('혈관 질환 여부 (예/아니오)', 1),\n",
    "    ('여성 여부 (여성은 예, 남성은 아니오)', 1)\n",
    "]\n",
    "\n",
    "# 점수 초기화\n",
    "total_score = 0\n",
    "index = 0  # 항목 리스트를 탐색할 인덱스\n",
    "\n",
    "# while문을 이용한 항목 탐색\n",
    "while index < len(chadsvasc_factors):\n",
    "    factor, score = chadsvasc_factors[index]\n",
    "    \n",
    "    # 나이 항목에 대한 처리\n",
    "    if factor == '나이 (75세 이상은 2점, 65~74세는 1점)':\n",
    "        while True:\n",
    "            try:\n",
    "                age = int(input(factor + ': '))\n",
    "                if age >= 75:\n",
    "                    total_score += 2\n",
    "                elif age >= 65:\n",
    "                    total_score += 1\n",
    "                break  # 나이 입력이 정상적으로 되었으면 while문 종료\n",
    "            except ValueError:\n",
    "                print(\"숫자를 입력해 주세요.\")\n",
    "    \n",
    "    # 나이 외의 항목에 대한 처리\n",
    "    else:\n",
    "        while True:\n",
    "            answer = input(factor + ': ').strip()\n",
    "            if answer == '예':\n",
    "                total_score += score\n",
    "                break  # 정상 입력 시 while문 종료\n",
    "            elif answer == '아니오':\n",
    "                break  # '아니오'일 경우에도 while문 종료\n",
    "            else:\n",
    "                print(\"잘못된 입력입니다. 예 또는 아니오로 입력해 주세요.\")\n",
    "    \n",
    "    # 다음 항목으로 이동\n",
    "    index += 1\n",
    "\n",
    "# 결과 출력\n",
    "print(f'CHA2DS2-VASc 점수: {total_score}')"
   ]
  }
 ],
 "metadata": {
  "kernelspec": {
   "display_name": "Chapter2-_YcOpmeC",
   "language": "python",
   "name": "python3"
  },
  "language_info": {
   "codemirror_mode": {
    "name": "ipython",
    "version": 3
   },
   "file_extension": ".py",
   "mimetype": "text/x-python",
   "name": "python",
   "nbconvert_exporter": "python",
   "pygments_lexer": "ipython3",
   "version": "3.12.8"
  }
 },
 "nbformat": 4,
 "nbformat_minor": 2
}
