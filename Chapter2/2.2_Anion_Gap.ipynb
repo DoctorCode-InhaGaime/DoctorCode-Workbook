{
 "cells": [
  {
   "cell_type": "markdown",
   "metadata": {},
   "source": [
    "## 파이썬의 변수와 연산자\n",
    "\n",
    "#### 변수(Variables)\n",
    "파이썬에서 변수는 데이터를 저장하는 메모리 공간의 이름입니다.\n",
    "\n",
    "#### 변수의 특징\n",
    "\n",
    "- 파이썬은 동적 타입 언어로, 변수 선언 시 자료형을 명시할 필요가 없음\n",
    "- 변수명은 문자, 숫자, 밑줄(_)로 구성되며 숫자로 시작할 수 없음\n",
    "- 대소문자를 구분함\n",
    "- 예약어는 변수명으로 사용할 수 없음 (if, for, while 등)"
   ]
  },
  {
   "cell_type": "markdown",
   "metadata": {},
   "source": [
    "#### 변수 할당"
   ]
  },
  {
   "cell_type": "code",
   "execution_count": 1,
   "metadata": {},
   "outputs": [],
   "source": [
    "x = 10        # 정수형 변수\n",
    "name = \"홍길동\"  # 문자열 변수\n",
    "pi = 3.14     # 실수형 변수\n",
    "is_valid = True  # 불리언 변수"
   ]
  },
  {
   "cell_type": "markdown",
   "metadata": {},
   "source": [
    "#### 다중 할당"
   ]
  },
  {
   "cell_type": "code",
   "execution_count": 2,
   "metadata": {},
   "outputs": [],
   "source": [
    "a, b, c = 1, 2, 3  # a=1, b=2, c=3으로 할당\n",
    "x = y = z = 0      # x, y, z 모두 0으로 할당"
   ]
  },
  {
   "cell_type": "markdown",
   "metadata": {},
   "source": [
    "#### 연산자(Operators)\n",
    "파이썬에서 연산자는 값에 대한 연산을 수행하는 기호입니다.\n",
    "\n",
    "#### 산술 연산자\n",
    "\n",
    "- \\+ : 덧셈\n",
    "- \\- : 뺄셈\n",
    "- \\* : 곱셈\n",
    "- \\/ : 나눗셈 (결과는 항상 실수형)\n",
    "- \\// : 정수 나눗셈 (몫)\n",
    "- \\% : 나머지\n",
    "- \\** : 거듭제곱"
   ]
  },
  {
   "cell_type": "code",
   "execution_count": 3,
   "metadata": {},
   "outputs": [
    {
     "name": "stdout",
     "output_type": "stream",
     "text": [
      "13\n",
      "7\n",
      "30\n",
      "3.3333333333333335\n",
      "3\n",
      "1\n",
      "1000\n"
     ]
    }
   ],
   "source": [
    "a = 10\n",
    "b = 3\n",
    "print(a + b)   # 13\n",
    "print(a - b)   # 7\n",
    "print(a * b)   # 30\n",
    "print(a / b)   # 3.3333333333333335\n",
    "print(a // b)  # 3\n",
    "print(a % b)   # 1\n",
    "print(a ** b)  # 1000"
   ]
  },
  {
   "cell_type": "markdown",
   "metadata": {},
   "source": [
    "#### 비교 연산자\n",
    "\n",
    "- \\== : 같음\n",
    "- \\!= : 다름\n",
    "- \\> : 큼\n",
    "- \\< : 작음\n",
    "- \\>= : 크거나 같음\n",
    "- \\<= : 작거나 같음\n",
    "\n",
    "#### 논리 연산자\n",
    "\n",
    "- and : 논리곱\n",
    "- or : 논리합\n",
    "- not : 논리부정\n",
    "\n",
    "#### 할당 연산자\n",
    "\n",
    "- \\= : 기본 할당\n",
    "- \\+=, -=, *=, /= 등 : 복합 할당"
   ]
  },
  {
   "cell_type": "code",
   "execution_count": 4,
   "metadata": {},
   "outputs": [],
   "source": [
    "x = 10\n",
    "x += 5  # x = x + 5와 동일 (결과: 15)\n",
    "x *= 2  # x = x * 2와 동일 (결과: 30)"
   ]
  },
  {
   "cell_type": "markdown",
   "metadata": {},
   "source": [
    "#### 비트 연산자\n",
    "\n",
    "- \\& : 비트 AND\n",
    "- \\| : 비트 OR\n",
    "- \\^ : 비트 XOR\n",
    "- \\~ : 비트 NOT\n",
    "- \\<< : 왼쪽 시프트\n",
    "- \\>> : 오른쪽 시프트\n",
    "\n",
    "#### 멤버십 연산자\n",
    "\n",
    "- in : 포함되어 있는지 확인\n",
    "- not in : 포함되어 있지 않은지 확인"
   ]
  },
  {
   "cell_type": "code",
   "execution_count": 5,
   "metadata": {},
   "outputs": [
    {
     "name": "stdout",
     "output_type": "stream",
     "text": [
      "True\n",
      "True\n"
     ]
    }
   ],
   "source": [
    "fruits = [\"사과\", \"바나나\", \"딸기\"]\n",
    "print(\"사과\" in fruits)  # True\n",
    "print(\"오렌지\" not in fruits)  # True"
   ]
  },
  {
   "cell_type": "markdown",
   "metadata": {},
   "source": [
    "#### 식별 연산자\n",
    "\n",
    "- is : 동일한 객체인지 확인\n",
    "- is not : 동일한 객체가 아닌지 확인"
   ]
  },
  {
   "cell_type": "code",
   "execution_count": 6,
   "metadata": {},
   "outputs": [
    {
     "name": "stdout",
     "output_type": "stream",
     "text": [
      "True\n",
      "False\n"
     ]
    }
   ],
   "source": [
    "a = [1, 2, 3]\n",
    "b = [1, 2, 3]\n",
    "c = a\n",
    "print(a is c)  # True (같은 객체를 참조)\n",
    "print(a is b)  # False (다른 객체)"
   ]
  },
  {
   "cell_type": "code",
   "execution_count": 7,
   "metadata": {},
   "outputs": [
    {
     "name": "stdout",
     "output_type": "stream",
     "text": [
      "Anion Gap: 12 mEq/L\n"
     ]
    }
   ],
   "source": [
    "# Na+, Cl-, HCO3- 농도를 변수로 정의\n",
    "na = 140 # 나트륨 농도 (mEq/L)\n",
    "cl = 104 # 염화 이온 농도 (mEq/L)\n",
    "hco3 = 24 # 중탄산염 농도 (mEq/L)\n",
    "\n",
    "# NAnion Gap 계산\n",
    "anion_gap = na - (cl + hco3)\n",
    "print(f'Anion Gap: {anion_gap} mEq/L')"
   ]
  }
 ],
 "metadata": {
  "kernelspec": {
   "display_name": "Chapter2-_YcOpmeC",
   "language": "python",
   "name": "python3"
  },
  "language_info": {
   "codemirror_mode": {
    "name": "ipython",
    "version": 3
   },
   "file_extension": ".py",
   "mimetype": "text/x-python",
   "name": "python",
   "nbconvert_exporter": "python",
   "pygments_lexer": "ipython3",
   "version": "3.12.8"
  }
 },
 "nbformat": 4,
 "nbformat_minor": 2
}
